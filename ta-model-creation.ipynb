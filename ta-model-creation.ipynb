{
 "cells": [
  {
   "cell_type": "code",
   "execution_count": 271,
   "id": "b1fca939",
   "metadata": {},
   "outputs": [
    {
     "name": "stdout",
     "output_type": "stream",
     "text": [
      "Requirement already satisfied: pandas in ./myvenv/lib/python3.10/site-packages (2.2.1)\n",
      "Requirement already satisfied: tensorflow in ./myvenv/lib/python3.10/site-packages (2.15.0.post1)\n",
      "Requirement already satisfied: scikit-learn in ./myvenv/lib/python3.10/site-packages (1.4.1.post1)\n",
      "Requirement already satisfied: matplotlib in ./myvenv/lib/python3.10/site-packages (3.8.3)\n",
      "Requirement already satisfied: seaborn in ./myvenv/lib/python3.10/site-packages (0.13.2)\n",
      "Requirement already satisfied: tzdata>=2022.7 in ./myvenv/lib/python3.10/site-packages (from pandas) (2024.1)\n",
      "Requirement already satisfied: pytz>=2020.1 in ./myvenv/lib/python3.10/site-packages (from pandas) (2024.1)\n",
      "Requirement already satisfied: python-dateutil>=2.8.2 in ./myvenv/lib/python3.10/site-packages (from pandas) (2.8.2)\n",
      "Requirement already satisfied: numpy<2,>=1.22.4 in ./myvenv/lib/python3.10/site-packages (from pandas) (1.26.4)\n",
      "Requirement already satisfied: typing-extensions>=3.6.6 in ./myvenv/lib/python3.10/site-packages (from tensorflow) (4.9.0)\n",
      "Requirement already satisfied: six>=1.12.0 in ./myvenv/lib/python3.10/site-packages (from tensorflow) (1.16.0)\n",
      "Requirement already satisfied: absl-py>=1.0.0 in ./myvenv/lib/python3.10/site-packages (from tensorflow) (2.1.0)\n",
      "Requirement already satisfied: setuptools in ./myvenv/lib/python3.10/site-packages (from tensorflow) (59.6.0)\n",
      "Requirement already satisfied: packaging in ./myvenv/lib/python3.10/site-packages (from tensorflow) (23.2)\n",
      "Requirement already satisfied: protobuf!=4.21.0,!=4.21.1,!=4.21.2,!=4.21.3,!=4.21.4,!=4.21.5,<5.0.0dev,>=3.20.3 in ./myvenv/lib/python3.10/site-packages (from tensorflow) (4.25.3)\n",
      "Requirement already satisfied: termcolor>=1.1.0 in ./myvenv/lib/python3.10/site-packages (from tensorflow) (2.4.0)\n",
      "Requirement already satisfied: astunparse>=1.6.0 in ./myvenv/lib/python3.10/site-packages (from tensorflow) (1.6.3)\n",
      "Requirement already satisfied: wrapt<1.15,>=1.11.0 in ./myvenv/lib/python3.10/site-packages (from tensorflow) (1.14.1)\n",
      "Requirement already satisfied: google-pasta>=0.1.1 in ./myvenv/lib/python3.10/site-packages (from tensorflow) (0.2.0)\n",
      "Requirement already satisfied: flatbuffers>=23.5.26 in ./myvenv/lib/python3.10/site-packages (from tensorflow) (23.5.26)\n",
      "Requirement already satisfied: keras<2.16,>=2.15.0 in ./myvenv/lib/python3.10/site-packages (from tensorflow) (2.15.0)\n",
      "Requirement already satisfied: gast!=0.5.0,!=0.5.1,!=0.5.2,>=0.2.1 in ./myvenv/lib/python3.10/site-packages (from tensorflow) (0.5.4)\n",
      "Requirement already satisfied: grpcio<2.0,>=1.24.3 in ./myvenv/lib/python3.10/site-packages (from tensorflow) (1.62.0)\n",
      "Requirement already satisfied: tensorflow-estimator<2.16,>=2.15.0 in ./myvenv/lib/python3.10/site-packages (from tensorflow) (2.15.0)\n",
      "Requirement already satisfied: opt-einsum>=2.3.2 in ./myvenv/lib/python3.10/site-packages (from tensorflow) (3.3.0)\n",
      "Requirement already satisfied: tensorboard<2.16,>=2.15 in ./myvenv/lib/python3.10/site-packages (from tensorflow) (2.15.2)\n",
      "Requirement already satisfied: tensorflow-io-gcs-filesystem>=0.23.1 in ./myvenv/lib/python3.10/site-packages (from tensorflow) (0.36.0)\n",
      "Requirement already satisfied: h5py>=2.9.0 in ./myvenv/lib/python3.10/site-packages (from tensorflow) (3.10.0)\n",
      "Requirement already satisfied: libclang>=13.0.0 in ./myvenv/lib/python3.10/site-packages (from tensorflow) (16.0.6)\n",
      "Requirement already satisfied: ml-dtypes~=0.2.0 in ./myvenv/lib/python3.10/site-packages (from tensorflow) (0.2.0)\n",
      "Requirement already satisfied: scipy>=1.6.0 in ./myvenv/lib/python3.10/site-packages (from scikit-learn) (1.12.0)\n",
      "Requirement already satisfied: threadpoolctl>=2.0.0 in ./myvenv/lib/python3.10/site-packages (from scikit-learn) (3.3.0)\n",
      "Requirement already satisfied: joblib>=1.2.0 in ./myvenv/lib/python3.10/site-packages (from scikit-learn) (1.3.2)\n",
      "Requirement already satisfied: pyparsing>=2.3.1 in ./myvenv/lib/python3.10/site-packages (from matplotlib) (3.1.1)\n",
      "Requirement already satisfied: cycler>=0.10 in ./myvenv/lib/python3.10/site-packages (from matplotlib) (0.12.1)\n",
      "Requirement already satisfied: pillow>=8 in ./myvenv/lib/python3.10/site-packages (from matplotlib) (10.2.0)\n",
      "Requirement already satisfied: fonttools>=4.22.0 in ./myvenv/lib/python3.10/site-packages (from matplotlib) (4.49.0)\n",
      "Requirement already satisfied: contourpy>=1.0.1 in ./myvenv/lib/python3.10/site-packages (from matplotlib) (1.2.0)\n",
      "Requirement already satisfied: kiwisolver>=1.3.1 in ./myvenv/lib/python3.10/site-packages (from matplotlib) (1.4.5)\n",
      "Requirement already satisfied: wheel<1.0,>=0.23.0 in ./myvenv/lib/python3.10/site-packages (from astunparse>=1.6.0->tensorflow) (0.42.0)\n",
      "Requirement already satisfied: markdown>=2.6.8 in ./myvenv/lib/python3.10/site-packages (from tensorboard<2.16,>=2.15->tensorflow) (3.5.2)\n",
      "Requirement already satisfied: google-auth<3,>=1.6.3 in ./myvenv/lib/python3.10/site-packages (from tensorboard<2.16,>=2.15->tensorflow) (2.28.1)\n",
      "Requirement already satisfied: google-auth-oauthlib<2,>=0.5 in ./myvenv/lib/python3.10/site-packages (from tensorboard<2.16,>=2.15->tensorflow) (1.2.0)\n",
      "Requirement already satisfied: werkzeug>=1.0.1 in ./myvenv/lib/python3.10/site-packages (from tensorboard<2.16,>=2.15->tensorflow) (3.0.1)\n",
      "Requirement already satisfied: tensorboard-data-server<0.8.0,>=0.7.0 in ./myvenv/lib/python3.10/site-packages (from tensorboard<2.16,>=2.15->tensorflow) (0.7.2)\n",
      "Requirement already satisfied: requests<3,>=2.21.0 in ./myvenv/lib/python3.10/site-packages (from tensorboard<2.16,>=2.15->tensorflow) (2.31.0)\n",
      "Requirement already satisfied: cachetools<6.0,>=2.0.0 in ./myvenv/lib/python3.10/site-packages (from google-auth<3,>=1.6.3->tensorboard<2.16,>=2.15->tensorflow) (5.3.2)\n",
      "Requirement already satisfied: rsa<5,>=3.1.4 in ./myvenv/lib/python3.10/site-packages (from google-auth<3,>=1.6.3->tensorboard<2.16,>=2.15->tensorflow) (4.9)\n",
      "Requirement already satisfied: pyasn1-modules>=0.2.1 in ./myvenv/lib/python3.10/site-packages (from google-auth<3,>=1.6.3->tensorboard<2.16,>=2.15->tensorflow) (0.3.0)\n",
      "Requirement already satisfied: requests-oauthlib>=0.7.0 in ./myvenv/lib/python3.10/site-packages (from google-auth-oauthlib<2,>=0.5->tensorboard<2.16,>=2.15->tensorflow) (1.3.1)\n",
      "Requirement already satisfied: urllib3<3,>=1.21.1 in ./myvenv/lib/python3.10/site-packages (from requests<3,>=2.21.0->tensorboard<2.16,>=2.15->tensorflow) (2.2.1)\n",
      "Requirement already satisfied: certifi>=2017.4.17 in ./myvenv/lib/python3.10/site-packages (from requests<3,>=2.21.0->tensorboard<2.16,>=2.15->tensorflow) (2024.2.2)\n",
      "Requirement already satisfied: charset-normalizer<4,>=2 in ./myvenv/lib/python3.10/site-packages (from requests<3,>=2.21.0->tensorboard<2.16,>=2.15->tensorflow) (3.3.2)\n",
      "Requirement already satisfied: idna<4,>=2.5 in ./myvenv/lib/python3.10/site-packages (from requests<3,>=2.21.0->tensorboard<2.16,>=2.15->tensorflow) (3.6)\n",
      "Requirement already satisfied: MarkupSafe>=2.1.1 in ./myvenv/lib/python3.10/site-packages (from werkzeug>=1.0.1->tensorboard<2.16,>=2.15->tensorflow) (2.1.5)\n",
      "Requirement already satisfied: pyasn1<0.6.0,>=0.4.6 in ./myvenv/lib/python3.10/site-packages (from pyasn1-modules>=0.2.1->google-auth<3,>=1.6.3->tensorboard<2.16,>=2.15->tensorflow) (0.5.1)\n",
      "Requirement already satisfied: oauthlib>=3.0.0 in ./myvenv/lib/python3.10/site-packages (from requests-oauthlib>=0.7.0->google-auth-oauthlib<2,>=0.5->tensorboard<2.16,>=2.15->tensorflow) (3.2.2)\n",
      "Note: you may need to restart the kernel to use updated packages.\n"
     ]
    }
   ],
   "source": [
    "pip install pandas tensorflow scikit-learn matplotlib seaborn"
   ]
  },
  {
   "cell_type": "code",
   "execution_count": 528,
   "id": "3f3b7ed9",
   "metadata": {},
   "outputs": [
    {
     "name": "stdout",
     "output_type": "stream",
     "text": [
      "TensorFlow Version: 2.15.0\n"
     ]
    }
   ],
   "source": [
    "print(f\"TensorFlow Version: {tf.__version__}\")"
   ]
  },
  {
   "cell_type": "code",
   "execution_count": 521,
   "id": "d179dcbe",
   "metadata": {
    "scrolled": true
   },
   "outputs": [
    {
     "name": "stdout",
     "output_type": "stream",
     "text": [
      "[name: \"/device:CPU:0\"\n",
      "device_type: \"CPU\"\n",
      "memory_limit: 268435456\n",
      "locality {\n",
      "}\n",
      "incarnation: 5915365628150640557\n",
      "xla_global_id: -1\n",
      ", name: \"/device:GPU:0\"\n",
      "device_type: \"GPU\"\n",
      "memory_limit: 10904207360\n",
      "locality {\n",
      "  bus_id: 1\n",
      "  links {\n",
      "  }\n",
      "}\n",
      "incarnation: 15668836433980213398\n",
      "physical_device_desc: \"device: 0, name: NVIDIA GeForce RTX 3060, pci bus id: 0000:07:00.0, compute capability: 8.6\"\n",
      "xla_global_id: 416903419\n",
      "]\n"
     ]
    },
    {
     "name": "stderr",
     "output_type": "stream",
     "text": [
      "2024-02-26 06:12:01.548302: I external/local_xla/xla/stream_executor/cuda/cuda_executor.cc:901] successful NUMA node read from SysFS had negative value (-1), but there must be at least one NUMA node, so returning NUMA node zero. See more at https://github.com/torvalds/linux/blob/v6.0/Documentation/ABI/testing/sysfs-bus-pci#L344-L355\n",
      "2024-02-26 06:12:01.548590: I external/local_xla/xla/stream_executor/cuda/cuda_executor.cc:901] successful NUMA node read from SysFS had negative value (-1), but there must be at least one NUMA node, so returning NUMA node zero. See more at https://github.com/torvalds/linux/blob/v6.0/Documentation/ABI/testing/sysfs-bus-pci#L344-L355\n",
      "2024-02-26 06:12:01.548804: I external/local_xla/xla/stream_executor/cuda/cuda_executor.cc:901] successful NUMA node read from SysFS had negative value (-1), but there must be at least one NUMA node, so returning NUMA node zero. See more at https://github.com/torvalds/linux/blob/v6.0/Documentation/ABI/testing/sysfs-bus-pci#L344-L355\n",
      "2024-02-26 06:12:01.549072: I external/local_xla/xla/stream_executor/cuda/cuda_executor.cc:901] successful NUMA node read from SysFS had negative value (-1), but there must be at least one NUMA node, so returning NUMA node zero. See more at https://github.com/torvalds/linux/blob/v6.0/Documentation/ABI/testing/sysfs-bus-pci#L344-L355\n",
      "2024-02-26 06:12:01.549269: I external/local_xla/xla/stream_executor/cuda/cuda_executor.cc:901] successful NUMA node read from SysFS had negative value (-1), but there must be at least one NUMA node, so returning NUMA node zero. See more at https://github.com/torvalds/linux/blob/v6.0/Documentation/ABI/testing/sysfs-bus-pci#L344-L355\n",
      "2024-02-26 06:12:01.549402: I tensorflow/core/common_runtime/gpu/gpu_device.cc:1929] Created device /device:GPU:0 with 10399 MB memory:  -> device: 0, name: NVIDIA GeForce RTX 3060, pci bus id: 0000:07:00.0, compute capability: 8.6\n"
     ]
    }
   ],
   "source": [
    "from tensorflow.python.client import device_lib\n",
    "print(device_lib.list_local_devices())"
   ]
  },
  {
   "cell_type": "code",
   "execution_count": 527,
   "id": "6ea3756e",
   "metadata": {},
   "outputs": [
    {
     "name": "stdout",
     "output_type": "stream",
     "text": [
      "CUDA Version: 12.2\n",
      "cuDNN Version: 8\n"
     ]
    }
   ],
   "source": [
    "import tensorflow.python.platform.build_info as tf_build\n",
    "print(f\"CUDA Version: {tf_build.build_info['cuda_version']}\")\n",
    "print(f\"cuDNN Version: {tf_build.build_info['cudnn_version']}\")"
   ]
  },
  {
   "cell_type": "code",
   "execution_count": 532,
   "id": "409b6bd9",
   "metadata": {},
   "outputs": [
    {
     "name": "stdout",
     "output_type": "stream",
     "text": [
      "1 Physical GPUs, 1 Logical GPU\n"
     ]
    }
   ],
   "source": [
    "gpus = tf.config.list_physical_devices('GPU')\n",
    "if gpus:\n",
    "  # Restrict TensorFlow to only use the first GPU\n",
    "  try:\n",
    "    tf.config.set_visible_devices(gpus[0], 'GPU')\n",
    "    logical_gpus = tf.config.list_logical_devices('GPU')\n",
    "    print(len(gpus), \"Physical GPUs,\", len(logical_gpus), \"Logical GPU\")\n",
    "  except RuntimeError as e:\n",
    "    # Visible devices must be set before GPUs have been initialized\n",
    "    print(e)"
   ]
  },
  {
   "cell_type": "code",
   "execution_count": 533,
   "id": "62facdab",
   "metadata": {},
   "outputs": [
    {
     "name": "stdout",
     "output_type": "stream",
     "text": [
      "sentiment\n",
      "positive    8622\n",
      "negative    8622\n",
      "neutral     8622\n",
      "Name: count, dtype: int64\n"
     ]
    },
    {
     "data": {
      "text/html": [
       "<div>\n",
       "<style scoped>\n",
       "    .dataframe tbody tr th:only-of-type {\n",
       "        vertical-align: middle;\n",
       "    }\n",
       "\n",
       "    .dataframe tbody tr th {\n",
       "        vertical-align: top;\n",
       "    }\n",
       "\n",
       "    .dataframe thead th {\n",
       "        text-align: right;\n",
       "    }\n",
       "</style>\n",
       "<table border=\"1\" class=\"dataframe\">\n",
       "  <thead>\n",
       "    <tr style=\"text-align: right;\">\n",
       "      <th></th>\n",
       "      <th>text</th>\n",
       "      <th>sentiment</th>\n",
       "    </tr>\n",
       "  </thead>\n",
       "  <tbody>\n",
       "    <tr>\n",
       "      <th>0</th>\n",
       "      <td>nolan finally created movie care watch</td>\n",
       "      <td>positive</td>\n",
       "    </tr>\n",
       "    <tr>\n",
       "      <th>1</th>\n",
       "      <td>become death</td>\n",
       "      <td>negative</td>\n",
       "    </tr>\n",
       "    <tr>\n",
       "      <th>2</th>\n",
       "      <td>end trailer would prime opportunity add become...</td>\n",
       "      <td>negative</td>\n",
       "    </tr>\n",
       "    <tr>\n",
       "      <th>3</th>\n",
       "      <td>showing japan want see chris movie</td>\n",
       "      <td>positive</td>\n",
       "    </tr>\n",
       "    <tr>\n",
       "      <th>4</th>\n",
       "      <td>pov nolan directs movie audience son btc</td>\n",
       "      <td>neutral</td>\n",
       "    </tr>\n",
       "  </tbody>\n",
       "</table>\n",
       "</div>"
      ],
      "text/plain": [
       "                                                text sentiment\n",
       "0             nolan finally created movie care watch  positive\n",
       "1                                       become death  negative\n",
       "2  end trailer would prime opportunity add become...  negative\n",
       "3                 showing japan want see chris movie  positive\n",
       "4           pov nolan directs movie audience son btc   neutral"
      ]
     },
     "execution_count": 533,
     "metadata": {},
     "output_type": "execute_result"
    }
   ],
   "source": [
    "import pandas as pd\n",
    "# df = pd.read_csv('dataset_cleaned.csv', sep=';')\n",
    "# df = pd.read_csv('dataset_temp.csv', sep=';')\n",
    "df = pd.read_csv('dataset_temp_balanced.csv', sep=';')\n",
    "df['text'] = df['text'].astype(str)\n",
    "df['sentiment'] = df['sentiment'].astype(str)\n",
    "print(df['sentiment'].value_counts())\n",
    "df.head()"
   ]
  },
  {
   "cell_type": "code",
   "execution_count": 534,
   "id": "2edfb34a",
   "metadata": {},
   "outputs": [],
   "source": [
    "from gensim.models import FastText\n",
    "# fasttext_model = FastText.load('fasttext_model.bin')\n",
    "# fasttext_model = FastText.load('fasttext_model_2.bin')\n",
    "# fasttext_model = FastText.load('fasttext_model_3.bin')\n",
    "fasttext_model = FastText.load('fasttext_model_4.bin')"
   ]
  },
  {
   "cell_type": "code",
   "execution_count": 535,
   "id": "15c361ec",
   "metadata": {
    "scrolled": true
   },
   "outputs": [
    {
     "data": {
      "text/plain": [
       "[('movie', 1),\n",
       " ('nolan', 2),\n",
       " ('bomb', 3),\n",
       " ('oppenheimer', 4),\n",
       " ('world', 5),\n",
       " ('film', 6),\n",
       " ('see', 7),\n",
       " ('like', 8),\n",
       " ('one', 9),\n",
       " ('trailer', 10)]"
      ]
     },
     "execution_count": 535,
     "metadata": {},
     "output_type": "execute_result"
    }
   ],
   "source": [
    "from tensorflow import keras\n",
    "from keras.preprocessing.text import Tokenizer\n",
    "tokenizer = Tokenizer(split=' ')\n",
    "tokenizer.fit_on_texts(df['text'])\n",
    "list(tokenizer.word_index.items())[:10]"
   ]
  },
  {
   "cell_type": "code",
   "execution_count": 536,
   "id": "1ec1a51e",
   "metadata": {},
   "outputs": [],
   "source": [
    "sequences = tokenizer.texts_to_sequences(df['text'])\n",
    "word_index = tokenizer.word_index"
   ]
  },
  {
   "cell_type": "code",
   "execution_count": 537,
   "id": "cd715f52",
   "metadata": {},
   "outputs": [],
   "source": [
    "import numpy as np\n",
    "vocab_size = len(word_index) + 1\n",
    "embedding_matrix = np.random.random((vocab_size, 32))\n",
    "for word, i in word_index.items():\n",
    "    try:\n",
    "        embedding_vector = fasttext_model.wv[word]\n",
    "    except:\n",
    "        print(f'word \\\"{word}\\\" is not found')\n",
    "    if embedding_vector is not None:\n",
    "        embedding_matrix[i, :] = embedding_vector"
   ]
  },
  {
   "cell_type": "code",
   "execution_count": 514,
   "id": "79205393",
   "metadata": {
    "scrolled": true
   },
   "outputs": [
    {
     "name": "stdout",
     "output_type": "stream",
     "text": [
      "18461\n",
      "[[ 0.56239181  0.83772244  0.19948037 ...  0.05221607  0.01088569\n",
      "   0.07322898]\n",
      " [ 1.21923006 -0.90278894  2.84340906 ... -1.59649765  0.65523094\n",
      "  -6.25575161]\n",
      " [-3.30254292 -2.79855061  3.54974651 ...  3.43789935  0.42861193\n",
      "  -4.13434219]\n",
      " ...\n",
      " [ 2.28994441 -3.89270377 -2.12757683 ... -4.1187315   1.99107385\n",
      "   0.12887029]\n",
      " [ 0.91570663 -0.84785795 -0.56067395 ... -0.32277721  0.70294482\n",
      "   0.22199719]\n",
      " [-0.33618939 -1.08258367 -0.43594459 ... -0.45747146 -0.48332354\n",
      "   0.51961732]]\n"
     ]
    }
   ],
   "source": [
    "print(vocab_size)\n",
    "print(embedding_matrix)"
   ]
  },
  {
   "cell_type": "code",
   "execution_count": 538,
   "id": "25b82cb0",
   "metadata": {},
   "outputs": [],
   "source": [
    "from keras.preprocessing import sequence\n",
    "MAX_SEQUENCE_LENGTH = 300\n",
    "data = sequence.pad_sequences(sequences, maxlen=MAX_SEQUENCE_LENGTH, padding='post')"
   ]
  },
  {
   "cell_type": "code",
   "execution_count": 539,
   "id": "3e93d794",
   "metadata": {},
   "outputs": [
    {
     "name": "stdout",
     "output_type": "stream",
     "text": [
      "[[   73  3240    12 ...     0     0     0]\n",
      " [11832   164   181 ...     0     0     0]\n",
      " [   18    24 16894 ...     0     0     0]\n",
      " ...\n",
      " [   15    13    19 ...     0     0     0]\n",
      " [  317    13   386 ...     0     0     0]\n",
      " [  713   526    26 ...     0     0     0]]\n",
      "[[1. 0. 0.]\n",
      " [0. 1. 0.]\n",
      " [0. 1. 0.]\n",
      " [0. 1. 0.]\n",
      " [1. 0. 0.]\n",
      " [0. 0. 1.]\n",
      " [0. 0. 1.]\n",
      " [1. 0. 0.]\n",
      " [1. 0. 0.]\n",
      " [0. 0. 1.]]\n"
     ]
    }
   ],
   "source": [
    "from sklearn.model_selection import train_test_split\n",
    "from sklearn.preprocessing import LabelEncoder\n",
    "from keras.utils import to_categorical\n",
    "SPLIT_RATIO = 0.2\n",
    "RANDOM_STATE = 27\n",
    "X = df['text']\n",
    "y = df['sentiment']\n",
    "l_encode = LabelEncoder()\n",
    "l_encode.fit(y)\n",
    "y = l_encode.transform(y)\n",
    "y = to_categorical(y, num_classes=3)\n",
    "X_train_val, X_test, y_train_val, y_test = train_test_split(data, y, test_size=SPLIT_RATIO, random_state=RANDOM_STATE)\n",
    "X_train, X_val, y_train, y_val = train_test_split(X_train_val, y_train_val, test_size=SPLIT_RATIO, random_state=RANDOM_STATE)\n",
    "print(X_train[:10])\n",
    "print(y_train[:10])"
   ]
  },
  {
   "cell_type": "code",
   "execution_count": 540,
   "id": "25d37c28",
   "metadata": {},
   "outputs": [
    {
     "name": "stdout",
     "output_type": "stream",
     "text": [
      "X_train: 16553\n",
      "y_train: 16553\n",
      "\n",
      "X_test: 5174\n",
      "y_test: 5174\n",
      "\n",
      "X_val: 4139\n",
      "y_val: 4139\n"
     ]
    }
   ],
   "source": [
    "print(f'X_train: {len(X_train)}')\n",
    "print(f'y_train: {len(y_train)}\\n')\n",
    "\n",
    "print(f'X_test: {len(X_test)}')\n",
    "print(f'y_test: {len(y_test)}\\n')\n",
    "\n",
    "print(f'X_val: {len(X_val)}')\n",
    "print(f'y_val: {len(y_val)}')\n",
    "\n",
    "assert len(X_train) + len(X_test) + len(X_val) == len(X)"
   ]
  },
  {
   "cell_type": "code",
   "execution_count": 541,
   "id": "de3bb1da",
   "metadata": {},
   "outputs": [],
   "source": [
    "from keras.models import Model, load_model\n",
    "from keras.layers import Dense, Input, Dropout, GRU, Activation, Bidirectional, Embedding\n",
    "from keras.regularizers import l1, l2\n",
    "from keras.optimizers import Adam\n",
    "from keras.callbacks import ModelCheckpoint, EarlyStopping"
   ]
  },
  {
   "cell_type": "code",
   "execution_count": 140,
   "id": "761b1f14",
   "metadata": {},
   "outputs": [],
   "source": [
    "# def build_model():\n",
    "#     sentence_indices = Input(shape=(MAX_SEQUENCE_LENGTH, ), dtype='int64')\n",
    "    \n",
    "#     embeddings = Embedding(input_dim=vocab_size, output_dim=15, weights=[embedding_matrix])(sentence_indices)\n",
    "    \n",
    "#     X = Bidirectional(GRU(512, return_sequences=True))(embeddings)\n",
    "    \n",
    "#     X = Dropout(rate=0.2)(X)\n",
    "    \n",
    "#     X = Bidirectional(GRU(512))(embeddings)\n",
    "    \n",
    "#     X = Dropout(rate=0.2)(X)\n",
    "    \n",
    "#     X = Dense(1024, activation='relu') (X)\n",
    "    \n",
    "#     X = Dropout(rate=0.2)(X)\n",
    "        \n",
    "#     X = Dense(3, activation='softmax')(X)\n",
    "    \n",
    "#     model = Model(inputs=sentence_indices, outputs=X)\n",
    "    \n",
    "#     return model"
   ]
  },
  {
   "cell_type": "code",
   "execution_count": 544,
   "id": "8f8bd1b3",
   "metadata": {},
   "outputs": [],
   "source": [
    "def build_model():\n",
    "    sentence_indices = Input(shape=(MAX_SEQUENCE_LENGTH, ), dtype='int64')\n",
    "    \n",
    "    embeddings = Embedding(input_dim=vocab_size, output_dim=32, weights=[embedding_matrix])(sentence_indices)\n",
    "    \n",
    "    X = Bidirectional(GRU(16, return_sequences=False))(embeddings)\n",
    "    \n",
    "    X = Dropout(rate=0.8)(X)\n",
    "        \n",
    "    X = Dense(3, activation='softmax')(X)\n",
    "    \n",
    "    model = Model(inputs=sentence_indices, outputs=X)\n",
    "    \n",
    "    return model"
   ]
  },
  {
   "cell_type": "code",
   "execution_count": 545,
   "id": "8d95a52f",
   "metadata": {
    "scrolled": false
   },
   "outputs": [
    {
     "name": "stdout",
     "output_type": "stream",
     "text": [
      "Model: \"model_60\"\n",
      "_________________________________________________________________\n",
      " Layer (type)                Output Shape              Param #   \n",
      "=================================================================\n",
      " input_73 (InputLayer)       [(None, 300)]             0         \n",
      "                                                                 \n",
      " embedding_72 (Embedding)    (None, 300, 32)           590752    \n",
      "                                                                 \n",
      " bidirectional_94 (Bidirect  (None, 32)                4800      \n",
      " ional)                                                          \n",
      "                                                                 \n",
      " dropout_93 (Dropout)        (None, 32)                0         \n",
      "                                                                 \n",
      " dense_75 (Dense)            (None, 3)                 99        \n",
      "                                                                 \n",
      "=================================================================\n",
      "Total params: 595651 (2.27 MB)\n",
      "Trainable params: 595651 (2.27 MB)\n",
      "Non-trainable params: 0 (0.00 Byte)\n",
      "_________________________________________________________________\n"
     ]
    }
   ],
   "source": [
    "model = build_model()\n",
    "model.summary()"
   ]
  },
  {
   "cell_type": "code",
   "execution_count": 546,
   "id": "b98bb28f",
   "metadata": {},
   "outputs": [],
   "source": [
    "def display_layers(model):\n",
    "    for layer in model.layers:\n",
    "        if hasattr(layer, 'get_weights'):\n",
    "            weights = layer.get_weights()\n",
    "            if weights:\n",
    "                print(f\"Layer name: {layer.name}\")\n",
    "                for i, weight in enumerate(weights):\n",
    "                    print(f\"Weight {i + 1}: {weight.shape}\")"
   ]
  },
  {
   "cell_type": "code",
   "execution_count": 547,
   "id": "4d2cd9b2",
   "metadata": {},
   "outputs": [
    {
     "name": "stdout",
     "output_type": "stream",
     "text": [
      "Layer name: embedding_72\n",
      "Weight 1: (18461, 32)\n",
      "Layer name: bidirectional_94\n",
      "Weight 1: (32, 48)\n",
      "Weight 2: (16, 48)\n",
      "Weight 3: (2, 48)\n",
      "Weight 4: (32, 48)\n",
      "Weight 5: (16, 48)\n",
      "Weight 6: (2, 48)\n",
      "Layer name: dense_75\n",
      "Weight 1: (32, 3)\n",
      "Weight 2: (3,)\n"
     ]
    }
   ],
   "source": [
    "display_layers(model)"
   ]
  },
  {
   "cell_type": "code",
   "execution_count": 548,
   "id": "a5603055",
   "metadata": {},
   "outputs": [],
   "source": [
    "from keras import backend as K\n",
    "\n",
    "@keras.saving.register_keras_serializable()\n",
    "def f1(y_true, y_pred):\n",
    "    @keras.saving.register_keras_serializable()\n",
    "    def recall(y_true, y_pred):\n",
    "        \"\"\"Recall metric.\n",
    "\n",
    "        Only computes a batch-wise average of recall.\n",
    "\n",
    "        Computes the recall, a metric for multi-label classification of\n",
    "        how many relevant items are selected.\n",
    "        \"\"\"\n",
    "        true_positives = K.sum(K.round(K.clip(y_true * y_pred, 0, 1)))\n",
    "        possible_positives = K.sum(K.round(K.clip(y_true, 0, 1)))\n",
    "        recall = true_positives / (possible_positives + K.epsilon())\n",
    "        return recall\n",
    "\n",
    "    @keras.saving.register_keras_serializable()\n",
    "    def precision(y_true, y_pred):\n",
    "        \"\"\"Precision metric.\n",
    "\n",
    "        Only computes a batch-wise average of precision.\n",
    "\n",
    "        Computes the precision, a metric for multi-label classification of\n",
    "        how many selected items are relevant.\n",
    "        \"\"\"\n",
    "        true_positives = K.sum(K.round(K.clip(y_true * y_pred, 0, 1)))\n",
    "        predicted_positives = K.sum(K.round(K.clip(y_pred, 0, 1)))\n",
    "        precision = true_positives / (predicted_positives + K.epsilon())\n",
    "        return precision\n",
    "    precision = precision(y_true, y_pred)\n",
    "    recall = recall(y_true, y_pred)\n",
    "    return 2*((precision*recall)/(precision+recall+K.epsilon()))"
   ]
  },
  {
   "cell_type": "code",
   "execution_count": 549,
   "id": "47ef2390",
   "metadata": {},
   "outputs": [],
   "source": [
    "import tensorflow as tf\n",
    "\n",
    "@keras.saving.register_keras_serializable()\n",
    "def f1_loss(y_true, y_pred):\n",
    "    \n",
    "    tp = K.sum(K.cast(y_true*y_pred, 'float'), axis=0)\n",
    "    fp = K.sum(K.cast((1-y_true)*y_pred, 'float'), axis=0)\n",
    "    fn = K.sum(K.cast(y_true*(1-y_pred), 'float'), axis=0)\n",
    "\n",
    "    p = tp / (tp + fp + K.epsilon())\n",
    "    r = tp / (tp + fn + K.epsilon())\n",
    "\n",
    "    f1 = 2*p*r / (p+r+K.epsilon())\n",
    "    f1 = tf.where(tf.math.is_nan(f1), tf.zeros_like(f1), f1)\n",
    "    return 1 - K.mean(f1)"
   ]
  },
  {
   "cell_type": "code",
   "execution_count": 550,
   "id": "8814eb22",
   "metadata": {},
   "outputs": [
    {
     "name": "stdout",
     "output_type": "stream",
     "text": [
      "Epoch 1/200\n",
      "65/65 [==============================] - 7s 90ms/step - loss: 0.6337 - accuracy: 0.3758 - f1: 0.3468 - val_loss: 0.5800 - val_accuracy: 0.5120 - val_f1: 0.4264\n",
      "Epoch 2/200\n",
      "65/65 [==============================] - 5s 80ms/step - loss: 0.5820 - accuracy: 0.4472 - f1: 0.4180 - val_loss: 0.5042 - val_accuracy: 0.5895 - val_f1: 0.5613\n",
      "Epoch 3/200\n",
      "65/65 [==============================] - 4s 67ms/step - loss: 0.5249 - accuracy: 0.5062 - f1: 0.4869 - val_loss: 0.4350 - val_accuracy: 0.6330 - val_f1: 0.6251\n",
      "Epoch 4/200\n",
      "65/65 [==============================] - 4s 66ms/step - loss: 0.4827 - accuracy: 0.5496 - f1: 0.5373 - val_loss: 0.3859 - val_accuracy: 0.6555 - val_f1: 0.6540\n",
      "Epoch 5/200\n",
      "65/65 [==============================] - 3s 47ms/step - loss: 0.4445 - accuracy: 0.5874 - f1: 0.5791 - val_loss: 0.3537 - val_accuracy: 0.6746 - val_f1: 0.6711\n",
      "Epoch 6/200\n",
      "65/65 [==============================] - 3s 47ms/step - loss: 0.4144 - accuracy: 0.6134 - f1: 0.6099 - val_loss: 0.3327 - val_accuracy: 0.6854 - val_f1: 0.6806\n",
      "Epoch 7/200\n",
      "65/65 [==============================] - 3s 51ms/step - loss: 0.3958 - accuracy: 0.6285 - f1: 0.6245 - val_loss: 0.3167 - val_accuracy: 0.6987 - val_f1: 0.6932\n",
      "Epoch 8/200\n",
      "65/65 [==============================] - 3s 51ms/step - loss: 0.3781 - accuracy: 0.6431 - f1: 0.6415 - val_loss: 0.3056 - val_accuracy: 0.7072 - val_f1: 0.7020\n",
      "Epoch 9/200\n",
      "65/65 [==============================] - 2s 36ms/step - loss: 0.3655 - accuracy: 0.6572 - f1: 0.6549 - val_loss: 0.2975 - val_accuracy: 0.7144 - val_f1: 0.7094\n",
      "Epoch 10/200\n",
      "65/65 [==============================] - 3s 40ms/step - loss: 0.3544 - accuracy: 0.6654 - f1: 0.6643 - val_loss: 0.2875 - val_accuracy: 0.7253 - val_f1: 0.7194\n",
      "Epoch 11/200\n",
      "65/65 [==============================] - 2s 33ms/step - loss: 0.3471 - accuracy: 0.6730 - f1: 0.6720 - val_loss: 0.2790 - val_accuracy: 0.7301 - val_f1: 0.7247\n",
      "Epoch 12/200\n",
      "65/65 [==============================] - 2s 35ms/step - loss: 0.3380 - accuracy: 0.6772 - f1: 0.6772 - val_loss: 0.2724 - val_accuracy: 0.7383 - val_f1: 0.7322\n",
      "Epoch 13/200\n",
      "65/65 [==============================] - 2s 33ms/step - loss: 0.3280 - accuracy: 0.6902 - f1: 0.6886 - val_loss: 0.2604 - val_accuracy: 0.7485 - val_f1: 0.7431\n",
      "Epoch 14/200\n",
      "65/65 [==============================] - 2s 27ms/step - loss: 0.3176 - accuracy: 0.7002 - f1: 0.6982 - val_loss: 0.2495 - val_accuracy: 0.7591 - val_f1: 0.7521\n",
      "Epoch 15/200\n",
      "65/65 [==============================] - 1s 21ms/step - loss: 0.3078 - accuracy: 0.7091 - f1: 0.7097 - val_loss: 0.2372 - val_accuracy: 0.7714 - val_f1: 0.7659\n",
      "Epoch 16/200\n",
      "65/65 [==============================] - 2s 30ms/step - loss: 0.2946 - accuracy: 0.7214 - f1: 0.7219 - val_loss: 0.2290 - val_accuracy: 0.7797 - val_f1: 0.7738\n",
      "Epoch 17/200\n",
      "65/65 [==============================] - 2s 30ms/step - loss: 0.2848 - accuracy: 0.7289 - f1: 0.7302 - val_loss: 0.2219 - val_accuracy: 0.7869 - val_f1: 0.7805\n",
      "Epoch 18/200\n",
      "65/65 [==============================] - 2s 28ms/step - loss: 0.2801 - accuracy: 0.7336 - f1: 0.7346 - val_loss: 0.2134 - val_accuracy: 0.7949 - val_f1: 0.7901\n",
      "Epoch 19/200\n",
      "65/65 [==============================] - 2s 31ms/step - loss: 0.2681 - accuracy: 0.7453 - f1: 0.7457 - val_loss: 0.2075 - val_accuracy: 0.8016 - val_f1: 0.7947\n",
      "Epoch 20/200\n",
      "65/65 [==============================] - 2s 27ms/step - loss: 0.2652 - accuracy: 0.7455 - f1: 0.7477 - val_loss: 0.2033 - val_accuracy: 0.8050 - val_f1: 0.8006\n",
      "Epoch 21/200\n",
      "65/65 [==============================] - 2s 31ms/step - loss: 0.2566 - accuracy: 0.7554 - f1: 0.7576 - val_loss: 0.2042 - val_accuracy: 0.8033 - val_f1: 0.7955\n",
      "Epoch 22/200\n",
      "65/65 [==============================] - 2s 28ms/step - loss: 0.2533 - accuracy: 0.7592 - f1: 0.7609 - val_loss: 0.1944 - val_accuracy: 0.8123 - val_f1: 0.8089\n",
      "Epoch 23/200\n",
      "65/65 [==============================] - 2s 29ms/step - loss: 0.2488 - accuracy: 0.7607 - f1: 0.7635 - val_loss: 0.1902 - val_accuracy: 0.8173 - val_f1: 0.8137\n",
      "Epoch 24/200\n",
      "65/65 [==============================] - 2s 23ms/step - loss: 0.2373 - accuracy: 0.7728 - f1: 0.7746 - val_loss: 0.1858 - val_accuracy: 0.8202 - val_f1: 0.8153\n",
      "Epoch 25/200\n",
      "65/65 [==============================] - 2s 31ms/step - loss: 0.2322 - accuracy: 0.7771 - f1: 0.7795 - val_loss: 0.1819 - val_accuracy: 0.8253 - val_f1: 0.8212\n",
      "Epoch 26/200\n",
      "65/65 [==============================] - 2s 27ms/step - loss: 0.2267 - accuracy: 0.7822 - f1: 0.7845 - val_loss: 0.1786 - val_accuracy: 0.8273 - val_f1: 0.8219\n",
      "Epoch 27/200\n",
      "65/65 [==============================] - 2s 26ms/step - loss: 0.2225 - accuracy: 0.7866 - f1: 0.7876 - val_loss: 0.1758 - val_accuracy: 0.8299 - val_f1: 0.8235\n",
      "Epoch 28/200\n",
      "65/65 [==============================] - 2s 24ms/step - loss: 0.2186 - accuracy: 0.7913 - f1: 0.7942 - val_loss: 0.1780 - val_accuracy: 0.8270 - val_f1: 0.8234\n",
      "Epoch 29/200\n",
      "65/65 [==============================] - 2s 32ms/step - loss: 0.2188 - accuracy: 0.7878 - f1: 0.7908 - val_loss: 0.1697 - val_accuracy: 0.8352 - val_f1: 0.8307\n",
      "Epoch 30/200\n",
      "65/65 [==============================] - 2s 27ms/step - loss: 0.2137 - accuracy: 0.7948 - f1: 0.7952 - val_loss: 0.1649 - val_accuracy: 0.8386 - val_f1: 0.8347\n",
      "Epoch 31/200\n",
      "65/65 [==============================] - 2s 28ms/step - loss: 0.2080 - accuracy: 0.8018 - f1: 0.8029 - val_loss: 0.1615 - val_accuracy: 0.8434 - val_f1: 0.8392\n",
      "Epoch 32/200\n",
      "65/65 [==============================] - 2s 25ms/step - loss: 0.2034 - accuracy: 0.8038 - f1: 0.8059 - val_loss: 0.1591 - val_accuracy: 0.8456 - val_f1: 0.8408\n",
      "Epoch 33/200\n",
      "65/65 [==============================] - 2s 25ms/step - loss: 0.1984 - accuracy: 0.8111 - f1: 0.8127 - val_loss: 0.1607 - val_accuracy: 0.8427 - val_f1: 0.8382\n",
      "Epoch 34/200\n",
      "65/65 [==============================] - 2s 25ms/step - loss: 0.1967 - accuracy: 0.8130 - f1: 0.8151 - val_loss: 0.1563 - val_accuracy: 0.8459 - val_f1: 0.8409\n",
      "Epoch 35/200\n",
      "65/65 [==============================] - 2s 25ms/step - loss: 0.1935 - accuracy: 0.8149 - f1: 0.8187 - val_loss: 0.1563 - val_accuracy: 0.8463 - val_f1: 0.8430\n",
      "Epoch 36/200\n",
      "65/65 [==============================] - 2s 28ms/step - loss: 0.1914 - accuracy: 0.8151 - f1: 0.8165 - val_loss: 0.1557 - val_accuracy: 0.8485 - val_f1: 0.8426\n",
      "Epoch 37/200\n",
      "65/65 [==============================] - 2s 25ms/step - loss: 0.1910 - accuracy: 0.8150 - f1: 0.8181 - val_loss: 0.1529 - val_accuracy: 0.8497 - val_f1: 0.8462\n",
      "Epoch 38/200\n",
      "65/65 [==============================] - 2s 25ms/step - loss: 0.1878 - accuracy: 0.8181 - f1: 0.8211 - val_loss: 0.1517 - val_accuracy: 0.8524 - val_f1: 0.8480\n",
      "Epoch 39/200\n",
      "65/65 [==============================] - 2s 24ms/step - loss: 0.1850 - accuracy: 0.8202 - f1: 0.8219 - val_loss: 0.1523 - val_accuracy: 0.8512 - val_f1: 0.8482\n",
      "Epoch 40/200\n",
      "65/65 [==============================] - 2s 26ms/step - loss: 0.1814 - accuracy: 0.8252 - f1: 0.8270 - val_loss: 0.1482 - val_accuracy: 0.8555 - val_f1: 0.8512\n",
      "Epoch 41/200\n",
      "65/65 [==============================] - 2s 24ms/step - loss: 0.1800 - accuracy: 0.8260 - f1: 0.8284 - val_loss: 0.1461 - val_accuracy: 0.8567 - val_f1: 0.8523\n",
      "Epoch 42/200\n",
      "65/65 [==============================] - 2s 25ms/step - loss: 0.1782 - accuracy: 0.8267 - f1: 0.8306 - val_loss: 0.1461 - val_accuracy: 0.8565 - val_f1: 0.8533\n",
      "Epoch 43/200\n",
      "65/65 [==============================] - 2s 24ms/step - loss: 0.1762 - accuracy: 0.8270 - f1: 0.8309 - val_loss: 0.1488 - val_accuracy: 0.8541 - val_f1: 0.8501\n",
      "Epoch 44/200\n",
      "65/65 [==============================] - 2s 26ms/step - loss: 0.1731 - accuracy: 0.8323 - f1: 0.8348 - val_loss: 0.1473 - val_accuracy: 0.8567 - val_f1: 0.8511\n",
      "Epoch 45/200\n",
      "65/65 [==============================] - 2s 24ms/step - loss: 0.1724 - accuracy: 0.8333 - f1: 0.8363 - val_loss: 0.1425 - val_accuracy: 0.8601 - val_f1: 0.8557\n",
      "Epoch 46/200\n",
      "65/65 [==============================] - 2s 24ms/step - loss: 0.1702 - accuracy: 0.8334 - f1: 0.8357 - val_loss: 0.1384 - val_accuracy: 0.8654 - val_f1: 0.8602\n",
      "Epoch 47/200\n",
      "65/65 [==============================] - 2s 25ms/step - loss: 0.1682 - accuracy: 0.8362 - f1: 0.8389 - val_loss: 0.1378 - val_accuracy: 0.8657 - val_f1: 0.8619\n",
      "Epoch 48/200\n",
      "65/65 [==============================] - 2s 24ms/step - loss: 0.1658 - accuracy: 0.8422 - f1: 0.8435 - val_loss: 0.1357 - val_accuracy: 0.8676 - val_f1: 0.8638\n",
      "Epoch 49/200\n",
      "65/65 [==============================] - 2s 25ms/step - loss: 0.1677 - accuracy: 0.8384 - f1: 0.8413 - val_loss: 0.1628 - val_accuracy: 0.8381 - val_f1: 0.8324\n",
      "Epoch 50/200\n",
      "65/65 [==============================] - 2s 28ms/step - loss: 0.1700 - accuracy: 0.8345 - f1: 0.8364 - val_loss: 0.1368 - val_accuracy: 0.8657 - val_f1: 0.8610\n",
      "Epoch 51/200\n",
      "65/65 [==============================] - 2s 25ms/step - loss: 0.1645 - accuracy: 0.8416 - f1: 0.8451 - val_loss: 0.1321 - val_accuracy: 0.8700 - val_f1: 0.8660\n",
      "Epoch 52/200\n",
      "65/65 [==============================] - 1s 22ms/step - loss: 0.1586 - accuracy: 0.8461 - f1: 0.8480 - val_loss: 0.1319 - val_accuracy: 0.8719 - val_f1: 0.8678\n",
      "Epoch 53/200\n",
      "65/65 [==============================] - 2s 26ms/step - loss: 0.1594 - accuracy: 0.8450 - f1: 0.8467 - val_loss: 0.1293 - val_accuracy: 0.8727 - val_f1: 0.8685\n",
      "Epoch 54/200\n",
      "65/65 [==============================] - 2s 28ms/step - loss: 0.1542 - accuracy: 0.8511 - f1: 0.8529 - val_loss: 0.1321 - val_accuracy: 0.8698 - val_f1: 0.8648\n",
      "Epoch 55/200\n",
      "65/65 [==============================] - 2s 26ms/step - loss: 0.1564 - accuracy: 0.8510 - f1: 0.8536 - val_loss: 0.1313 - val_accuracy: 0.8705 - val_f1: 0.8654\n",
      "Epoch 56/200\n",
      "65/65 [==============================] - 2s 25ms/step - loss: 0.1551 - accuracy: 0.8492 - f1: 0.8518 - val_loss: 0.1304 - val_accuracy: 0.8724 - val_f1: 0.8675\n",
      "Epoch 57/200\n",
      "65/65 [==============================] - 2s 24ms/step - loss: 0.1562 - accuracy: 0.8488 - f1: 0.8517 - val_loss: 0.1269 - val_accuracy: 0.8761 - val_f1: 0.8708\n",
      "Epoch 58/200\n",
      "65/65 [==============================] - 2s 24ms/step - loss: 0.1535 - accuracy: 0.8522 - f1: 0.8546 - val_loss: 0.1272 - val_accuracy: 0.8753 - val_f1: 0.8689\n",
      "Epoch 59/200\n",
      "65/65 [==============================] - 2s 24ms/step - loss: 0.1490 - accuracy: 0.8570 - f1: 0.8593 - val_loss: 0.1292 - val_accuracy: 0.8727 - val_f1: 0.8676\n",
      "Epoch 60/200\n",
      "65/65 [==============================] - 2s 26ms/step - loss: 0.1497 - accuracy: 0.8564 - f1: 0.8578 - val_loss: 0.1258 - val_accuracy: 0.8770 - val_f1: 0.8717\n",
      "Epoch 61/200\n",
      "65/65 [==============================] - 2s 28ms/step - loss: 0.1466 - accuracy: 0.8588 - f1: 0.8603 - val_loss: 0.1237 - val_accuracy: 0.8782 - val_f1: 0.8730\n",
      "Epoch 62/200\n",
      "65/65 [==============================] - 2s 24ms/step - loss: 0.1504 - accuracy: 0.8552 - f1: 0.8577 - val_loss: 0.1233 - val_accuracy: 0.8785 - val_f1: 0.8743\n",
      "Epoch 63/200\n",
      "65/65 [==============================] - 2s 25ms/step - loss: 0.1413 - accuracy: 0.8652 - f1: 0.8669 - val_loss: 0.1237 - val_accuracy: 0.8775 - val_f1: 0.8734\n",
      "Epoch 64/200\n",
      "65/65 [==============================] - 2s 25ms/step - loss: 0.1457 - accuracy: 0.8583 - f1: 0.8604 - val_loss: 0.1246 - val_accuracy: 0.8792 - val_f1: 0.8761\n",
      "Epoch 65/200\n",
      "65/65 [==============================] - 1s 23ms/step - loss: 0.1429 - accuracy: 0.8621 - f1: 0.8635 - val_loss: 0.1244 - val_accuracy: 0.8775 - val_f1: 0.8745\n",
      "Epoch 66/200\n",
      "65/65 [==============================] - 2s 24ms/step - loss: 0.1441 - accuracy: 0.8613 - f1: 0.8625 - val_loss: 0.1220 - val_accuracy: 0.8797 - val_f1: 0.8765\n",
      "Epoch 67/200\n",
      "65/65 [==============================] - 1s 23ms/step - loss: 0.1450 - accuracy: 0.8594 - f1: 0.8610 - val_loss: 0.1259 - val_accuracy: 0.8768 - val_f1: 0.8736\n",
      "Epoch 68/200\n",
      "65/65 [==============================] - 2s 24ms/step - loss: 0.1437 - accuracy: 0.8609 - f1: 0.8631 - val_loss: 0.1231 - val_accuracy: 0.8780 - val_f1: 0.8751\n",
      "Epoch 69/200\n",
      "65/65 [==============================] - 2s 24ms/step - loss: 0.1417 - accuracy: 0.8640 - f1: 0.8649 - val_loss: 0.1245 - val_accuracy: 0.8765 - val_f1: 0.8737\n",
      "Epoch 70/200\n",
      "65/65 [==============================] - 1s 23ms/step - loss: 0.1394 - accuracy: 0.8667 - f1: 0.8676 - val_loss: 0.1241 - val_accuracy: 0.8770 - val_f1: 0.8731\n",
      "Epoch 71/200\n",
      "65/65 [==============================] - 2s 24ms/step - loss: 0.1410 - accuracy: 0.8640 - f1: 0.8651 - val_loss: 0.1238 - val_accuracy: 0.8777 - val_f1: 0.8760\n",
      "Epoch 72/200\n",
      "65/65 [==============================] - 2s 25ms/step - loss: 0.1382 - accuracy: 0.8667 - f1: 0.8675 - val_loss: 0.1225 - val_accuracy: 0.8802 - val_f1: 0.8770\n",
      "Epoch 73/200\n",
      "65/65 [==============================] - 2s 24ms/step - loss: 0.1368 - accuracy: 0.8688 - f1: 0.8694 - val_loss: 0.1256 - val_accuracy: 0.8756 - val_f1: 0.8714\n",
      "Epoch 74/200\n",
      "65/65 [==============================] - 2s 24ms/step - loss: 0.1386 - accuracy: 0.8649 - f1: 0.8663 - val_loss: 0.1236 - val_accuracy: 0.8777 - val_f1: 0.8723\n",
      "Epoch 75/200\n",
      "65/65 [==============================] - 2s 26ms/step - loss: 0.1372 - accuracy: 0.8684 - f1: 0.8692 - val_loss: 0.1233 - val_accuracy: 0.8780 - val_f1: 0.8750\n",
      "Epoch 76/200\n",
      "65/65 [==============================] - 2s 24ms/step - loss: 0.1357 - accuracy: 0.8711 - f1: 0.8716 - val_loss: 0.1215 - val_accuracy: 0.8802 - val_f1: 0.8768\n",
      "Epoch 77/200\n",
      "65/65 [==============================] - 2s 25ms/step - loss: 0.1332 - accuracy: 0.8720 - f1: 0.8727 - val_loss: 0.1194 - val_accuracy: 0.8823 - val_f1: 0.8789\n",
      "Epoch 78/200\n",
      "65/65 [==============================] - 2s 25ms/step - loss: 0.1313 - accuracy: 0.8749 - f1: 0.8754 - val_loss: 0.1215 - val_accuracy: 0.8792 - val_f1: 0.8760\n",
      "Epoch 79/200\n",
      "65/65 [==============================] - 2s 24ms/step - loss: 0.1341 - accuracy: 0.8714 - f1: 0.8718 - val_loss: 0.1184 - val_accuracy: 0.8831 - val_f1: 0.8773\n",
      "Epoch 80/200\n",
      "65/65 [==============================] - 2s 24ms/step - loss: 0.1340 - accuracy: 0.8717 - f1: 0.8715 - val_loss: 0.1182 - val_accuracy: 0.8835 - val_f1: 0.8803\n",
      "Epoch 81/200\n",
      "65/65 [==============================] - 2s 25ms/step - loss: 0.1309 - accuracy: 0.8762 - f1: 0.8759 - val_loss: 0.1154 - val_accuracy: 0.8862 - val_f1: 0.8838\n",
      "Epoch 82/200\n",
      "65/65 [==============================] - 2s 24ms/step - loss: 0.1312 - accuracy: 0.8752 - f1: 0.8754 - val_loss: 0.1146 - val_accuracy: 0.8879 - val_f1: 0.8855\n",
      "Epoch 83/200\n",
      "65/65 [==============================] - 2s 25ms/step - loss: 0.1320 - accuracy: 0.8743 - f1: 0.8744 - val_loss: 0.1199 - val_accuracy: 0.8809 - val_f1: 0.8776\n",
      "Epoch 84/200\n",
      "65/65 [==============================] - 2s 24ms/step - loss: 0.1303 - accuracy: 0.8750 - f1: 0.8755 - val_loss: 0.1170 - val_accuracy: 0.8852 - val_f1: 0.8806\n",
      "Epoch 85/200\n",
      "65/65 [==============================] - 2s 25ms/step - loss: 0.1317 - accuracy: 0.8731 - f1: 0.8733 - val_loss: 0.1255 - val_accuracy: 0.8761 - val_f1: 0.8706\n",
      "Epoch 86/200\n",
      "65/65 [==============================] - 2s 24ms/step - loss: 0.1332 - accuracy: 0.8711 - f1: 0.8711 - val_loss: 0.1200 - val_accuracy: 0.8814 - val_f1: 0.8781\n",
      "Epoch 87/200\n",
      "65/65 [==============================] - 2s 24ms/step - loss: 0.1305 - accuracy: 0.8754 - f1: 0.8756 - val_loss: 0.1116 - val_accuracy: 0.8906 - val_f1: 0.8879\n",
      "Epoch 88/200\n",
      "65/65 [==============================] - 2s 25ms/step - loss: 0.1305 - accuracy: 0.8756 - f1: 0.8761 - val_loss: 0.1167 - val_accuracy: 0.8857 - val_f1: 0.8821\n",
      "Epoch 89/200\n",
      "65/65 [==============================] - 2s 23ms/step - loss: 0.1237 - accuracy: 0.8829 - f1: 0.8830 - val_loss: 0.1159 - val_accuracy: 0.8852 - val_f1: 0.8805\n",
      "Epoch 90/200\n",
      "65/65 [==============================] - 2s 26ms/step - loss: 0.1293 - accuracy: 0.8766 - f1: 0.8766 - val_loss: 0.1192 - val_accuracy: 0.8821 - val_f1: 0.8777\n",
      "Epoch 91/200\n",
      "65/65 [==============================] - 2s 25ms/step - loss: 0.1302 - accuracy: 0.8749 - f1: 0.8751 - val_loss: 0.1122 - val_accuracy: 0.8889 - val_f1: 0.8851\n",
      "Epoch 92/200\n",
      "65/65 [==============================] - 2s 24ms/step - loss: 0.1294 - accuracy: 0.8768 - f1: 0.8770 - val_loss: 0.1176 - val_accuracy: 0.8840 - val_f1: 0.8807\n",
      "Epoch 93/200\n",
      "65/65 [==============================] - 1s 23ms/step - loss: 0.1422 - accuracy: 0.8638 - f1: 0.8643 - val_loss: 0.1183 - val_accuracy: 0.8840 - val_f1: 0.8784\n",
      "Epoch 94/200\n",
      "65/65 [==============================] - 1s 23ms/step - loss: 0.1338 - accuracy: 0.8713 - f1: 0.8713 - val_loss: 0.1141 - val_accuracy: 0.8886 - val_f1: 0.8826\n",
      "Epoch 95/200\n",
      "65/65 [==============================] - 2s 25ms/step - loss: 0.1296 - accuracy: 0.8757 - f1: 0.8756 - val_loss: 0.1159 - val_accuracy: 0.8855 - val_f1: 0.8808\n",
      "Epoch 96/200\n",
      "65/65 [==============================] - 2s 25ms/step - loss: 0.1259 - accuracy: 0.8804 - f1: 0.8806 - val_loss: 0.1172 - val_accuracy: 0.8852 - val_f1: 0.8806\n",
      "Epoch 97/200\n",
      "65/65 [==============================] - 1s 23ms/step - loss: 0.1304 - accuracy: 0.8769 - f1: 0.8770 - val_loss: 0.1115 - val_accuracy: 0.8910 - val_f1: 0.8862\n",
      "Epoch 98/200\n",
      "65/65 [==============================] - 1s 22ms/step - loss: 0.1226 - accuracy: 0.8841 - f1: 0.8839 - val_loss: 0.1184 - val_accuracy: 0.8823 - val_f1: 0.8779\n",
      "Epoch 99/200\n",
      "65/65 [==============================] - 2s 25ms/step - loss: 0.1223 - accuracy: 0.8838 - f1: 0.8839 - val_loss: 0.1159 - val_accuracy: 0.8850 - val_f1: 0.8804\n",
      "Epoch 100/200\n",
      "65/65 [==============================] - 2s 24ms/step - loss: 0.1215 - accuracy: 0.8839 - f1: 0.8838 - val_loss: 0.1141 - val_accuracy: 0.8864 - val_f1: 0.8818\n",
      "Epoch 101/200\n",
      "65/65 [==============================] - 2s 25ms/step - loss: 0.1229 - accuracy: 0.8835 - f1: 0.8837 - val_loss: 0.1125 - val_accuracy: 0.8889 - val_f1: 0.8841\n",
      "Epoch 102/200\n",
      "65/65 [==============================] - 1s 23ms/step - loss: 0.1251 - accuracy: 0.8801 - f1: 0.8802 - val_loss: 0.1127 - val_accuracy: 0.8891 - val_f1: 0.8845\n",
      "Epoch 103/200\n",
      "65/65 [==============================] - 2s 24ms/step - loss: 0.1202 - accuracy: 0.8859 - f1: 0.8858 - val_loss: 0.1120 - val_accuracy: 0.8898 - val_f1: 0.8851\n",
      "Epoch 104/200\n",
      "65/65 [==============================] - 1s 23ms/step - loss: 0.1201 - accuracy: 0.8848 - f1: 0.8848 - val_loss: 0.1140 - val_accuracy: 0.8869 - val_f1: 0.8823\n",
      "Epoch 105/200\n",
      "65/65 [==============================] - 2s 24ms/step - loss: 0.1251 - accuracy: 0.8809 - f1: 0.8810 - val_loss: 0.1098 - val_accuracy: 0.8922 - val_f1: 0.8884\n",
      "Epoch 106/200\n",
      "65/65 [==============================] - 2s 24ms/step - loss: 0.1255 - accuracy: 0.8794 - f1: 0.8797 - val_loss: 0.1115 - val_accuracy: 0.8898 - val_f1: 0.8850\n",
      "Epoch 107/200\n",
      "65/65 [==============================] - 2s 24ms/step - loss: 0.1181 - accuracy: 0.8876 - f1: 0.8876 - val_loss: 0.1108 - val_accuracy: 0.8903 - val_f1: 0.8854\n",
      "Epoch 108/200\n",
      "65/65 [==============================] - 2s 25ms/step - loss: 0.1186 - accuracy: 0.8870 - f1: 0.8870 - val_loss: 0.1121 - val_accuracy: 0.8889 - val_f1: 0.8841\n",
      "Epoch 109/200\n",
      "65/65 [==============================] - 2s 24ms/step - loss: 0.1188 - accuracy: 0.8867 - f1: 0.8869 - val_loss: 0.1135 - val_accuracy: 0.8872 - val_f1: 0.8824\n",
      "Epoch 110/200\n",
      "65/65 [==============================] - 1s 20ms/step - loss: 0.1190 - accuracy: 0.8855 - f1: 0.8855 - val_loss: 0.1133 - val_accuracy: 0.8874 - val_f1: 0.8827\n",
      "Epoch 111/200\n",
      "65/65 [==============================] - 2s 23ms/step - loss: 0.1205 - accuracy: 0.8852 - f1: 0.8852 - val_loss: 0.1132 - val_accuracy: 0.8874 - val_f1: 0.8827\n",
      "Epoch 112/200\n",
      "65/65 [==============================] - 2s 24ms/step - loss: 0.1177 - accuracy: 0.8884 - f1: 0.8881 - val_loss: 0.1117 - val_accuracy: 0.8889 - val_f1: 0.8841\n",
      "Epoch 113/200\n",
      "65/65 [==============================] - 1s 23ms/step - loss: 0.1142 - accuracy: 0.8905 - f1: 0.8906 - val_loss: 0.1122 - val_accuracy: 0.8889 - val_f1: 0.8841\n",
      "Epoch 114/200\n",
      "65/65 [==============================] - 2s 25ms/step - loss: 0.1168 - accuracy: 0.8879 - f1: 0.8878 - val_loss: 0.1122 - val_accuracy: 0.8889 - val_f1: 0.8841\n",
      "Epoch 115/200\n",
      "65/65 [==============================] - 2s 24ms/step - loss: 0.1149 - accuracy: 0.8907 - f1: 0.8908 - val_loss: 0.1132 - val_accuracy: 0.8886 - val_f1: 0.8838\n",
      "Epoch 116/200\n",
      "65/65 [==============================] - 2s 24ms/step - loss: 0.1165 - accuracy: 0.8896 - f1: 0.8895 - val_loss: 0.1124 - val_accuracy: 0.8889 - val_f1: 0.8841\n",
      "Epoch 117/200\n",
      "65/65 [==============================] - 1s 23ms/step - loss: 0.1155 - accuracy: 0.8899 - f1: 0.8896 - val_loss: 0.1120 - val_accuracy: 0.8884 - val_f1: 0.8836\n",
      "Epoch 118/200\n",
      "65/65 [==============================] - 1s 23ms/step - loss: 0.1150 - accuracy: 0.8894 - f1: 0.8894 - val_loss: 0.1108 - val_accuracy: 0.8896 - val_f1: 0.8847\n",
      "Epoch 119/200\n",
      "65/65 [==============================] - 2s 25ms/step - loss: 0.1119 - accuracy: 0.8926 - f1: 0.8927 - val_loss: 0.1106 - val_accuracy: 0.8906 - val_f1: 0.8857\n",
      "Epoch 120/200\n",
      "65/65 [==============================] - 2s 25ms/step - loss: 0.1118 - accuracy: 0.8931 - f1: 0.8933 - val_loss: 0.1098 - val_accuracy: 0.8918 - val_f1: 0.8868\n",
      "Epoch 121/200\n",
      "65/65 [==============================] - 2s 23ms/step - loss: 0.1122 - accuracy: 0.8923 - f1: 0.8925 - val_loss: 0.1114 - val_accuracy: 0.8901 - val_f1: 0.8852\n",
      "Epoch 122/200\n",
      "65/65 [==============================] - 2s 24ms/step - loss: 0.1144 - accuracy: 0.8892 - f1: 0.8890 - val_loss: 0.1121 - val_accuracy: 0.8886 - val_f1: 0.8838\n",
      "Epoch 123/200\n",
      "65/65 [==============================] - 2s 24ms/step - loss: 0.1158 - accuracy: 0.8885 - f1: 0.8884 - val_loss: 0.1248 - val_accuracy: 0.8753 - val_f1: 0.8713\n",
      "Epoch 124/200\n",
      "65/65 [==============================] - 2s 24ms/step - loss: 0.1152 - accuracy: 0.8904 - f1: 0.8904 - val_loss: 0.1111 - val_accuracy: 0.8893 - val_f1: 0.8845\n",
      "Epoch 125/200\n",
      "65/65 [==============================] - 2s 25ms/step - loss: 0.1145 - accuracy: 0.8901 - f1: 0.8901 - val_loss: 0.1138 - val_accuracy: 0.8874 - val_f1: 0.8839\n",
      "Epoch 126/200\n",
      "65/65 [==============================] - 2s 25ms/step - loss: 0.1133 - accuracy: 0.8910 - f1: 0.8910 - val_loss: 0.1095 - val_accuracy: 0.8913 - val_f1: 0.8864\n",
      "Epoch 127/200\n",
      "65/65 [==============================] - 1s 23ms/step - loss: 0.1126 - accuracy: 0.8922 - f1: 0.8923 - val_loss: 0.1091 - val_accuracy: 0.8920 - val_f1: 0.8870\n",
      "Epoch 128/200\n",
      "65/65 [==============================] - 2s 24ms/step - loss: 0.1101 - accuracy: 0.8952 - f1: 0.8954 - val_loss: 0.1100 - val_accuracy: 0.8908 - val_f1: 0.8859\n",
      "Epoch 129/200\n",
      "65/65 [==============================] - 2s 24ms/step - loss: 0.1122 - accuracy: 0.8933 - f1: 0.8934 - val_loss: 0.1110 - val_accuracy: 0.8896 - val_f1: 0.8847\n",
      "Epoch 130/200\n",
      "65/65 [==============================] - 2s 24ms/step - loss: 0.1099 - accuracy: 0.8960 - f1: 0.8960 - val_loss: 0.1116 - val_accuracy: 0.8893 - val_f1: 0.8845\n",
      "Epoch 131/200\n",
      "65/65 [==============================] - 1s 23ms/step - loss: 0.1090 - accuracy: 0.8962 - f1: 0.8961 - val_loss: 0.1105 - val_accuracy: 0.8903 - val_f1: 0.8854\n",
      "Epoch 132/200\n",
      "65/65 [==============================] - 1s 22ms/step - loss: 0.1123 - accuracy: 0.8933 - f1: 0.8932 - val_loss: 0.1103 - val_accuracy: 0.8908 - val_f1: 0.8870\n",
      "Epoch 133/200\n",
      "65/65 [==============================] - 1s 22ms/step - loss: 0.1079 - accuracy: 0.8978 - f1: 0.8979 - val_loss: 0.1107 - val_accuracy: 0.8908 - val_f1: 0.8870\n",
      "Epoch 134/200\n",
      "65/65 [==============================] - 1s 23ms/step - loss: 0.1139 - accuracy: 0.8909 - f1: 0.8907 - val_loss: 0.1103 - val_accuracy: 0.8908 - val_f1: 0.8871\n",
      "Epoch 135/200\n",
      "65/65 [==============================] - 2s 24ms/step - loss: 0.1074 - accuracy: 0.8984 - f1: 0.8984 - val_loss: 0.1082 - val_accuracy: 0.8925 - val_f1: 0.8886\n",
      "Epoch 136/200\n",
      "65/65 [==============================] - 1s 23ms/step - loss: 0.1114 - accuracy: 0.8937 - f1: 0.8937 - val_loss: 0.1087 - val_accuracy: 0.8925 - val_f1: 0.8886\n",
      "Epoch 137/200\n",
      "65/65 [==============================] - 2s 25ms/step - loss: 0.1075 - accuracy: 0.8978 - f1: 0.8978 - val_loss: 0.1099 - val_accuracy: 0.8906 - val_f1: 0.8868\n",
      "Epoch 138/200\n",
      "65/65 [==============================] - 1s 23ms/step - loss: 0.1089 - accuracy: 0.8967 - f1: 0.8969 - val_loss: 0.1116 - val_accuracy: 0.8893 - val_f1: 0.8845\n",
      "Epoch 139/200\n",
      "65/65 [==============================] - 2s 22ms/step - loss: 0.1097 - accuracy: 0.8947 - f1: 0.8948 - val_loss: 0.1089 - val_accuracy: 0.8915 - val_f1: 0.8854\n",
      "Epoch 140/200\n",
      "65/65 [==============================] - 1s 22ms/step - loss: 0.1094 - accuracy: 0.8949 - f1: 0.8951 - val_loss: 0.1100 - val_accuracy: 0.8903 - val_f1: 0.8866\n",
      "Epoch 141/200\n",
      "65/65 [==============================] - 1s 21ms/step - loss: 0.1062 - accuracy: 0.8987 - f1: 0.8989 - val_loss: 0.1114 - val_accuracy: 0.8886 - val_f1: 0.8839\n",
      "Epoch 142/200\n",
      "65/65 [==============================] - 2s 24ms/step - loss: 0.1145 - accuracy: 0.8908 - f1: 0.8909 - val_loss: 0.1026 - val_accuracy: 0.8985 - val_f1: 0.8932\n",
      "Epoch 143/200\n",
      "65/65 [==============================] - 2s 24ms/step - loss: 0.1143 - accuracy: 0.8910 - f1: 0.8910 - val_loss: 0.1061 - val_accuracy: 0.8949 - val_f1: 0.8898\n",
      "Epoch 144/200\n",
      "65/65 [==============================] - 1s 23ms/step - loss: 0.1080 - accuracy: 0.8969 - f1: 0.8970 - val_loss: 0.1054 - val_accuracy: 0.8951 - val_f1: 0.8900\n",
      "Epoch 145/200\n",
      "65/65 [==============================] - 2s 26ms/step - loss: 0.1063 - accuracy: 0.8990 - f1: 0.8991 - val_loss: 0.1048 - val_accuracy: 0.8956 - val_f1: 0.8905\n",
      "Epoch 146/200\n",
      "65/65 [==============================] - 1s 21ms/step - loss: 0.1041 - accuracy: 0.9006 - f1: 0.9005 - val_loss: 0.1036 - val_accuracy: 0.8971 - val_f1: 0.8919\n",
      "Epoch 147/200\n",
      "65/65 [==============================] - 1s 23ms/step - loss: 0.1044 - accuracy: 0.9010 - f1: 0.9011 - val_loss: 0.1100 - val_accuracy: 0.8903 - val_f1: 0.8854\n",
      "Epoch 148/200\n",
      "65/65 [==============================] - 2s 24ms/step - loss: 0.1067 - accuracy: 0.8990 - f1: 0.8991 - val_loss: 0.1064 - val_accuracy: 0.8939 - val_f1: 0.8877\n",
      "Epoch 149/200\n",
      "65/65 [==============================] - 2s 24ms/step - loss: 0.1361 - accuracy: 0.8696 - f1: 0.8695 - val_loss: 0.1100 - val_accuracy: 0.8918 - val_f1: 0.8868\n",
      "Epoch 150/200\n",
      "65/65 [==============================] - 2s 25ms/step - loss: 0.1189 - accuracy: 0.8861 - f1: 0.8861 - val_loss: 0.1019 - val_accuracy: 0.8993 - val_f1: 0.8939\n",
      "Epoch 151/200\n",
      "65/65 [==============================] - 1s 23ms/step - loss: 0.1092 - accuracy: 0.8960 - f1: 0.8960 - val_loss: 0.1047 - val_accuracy: 0.8956 - val_f1: 0.8905\n",
      "Epoch 152/200\n",
      "65/65 [==============================] - 2s 24ms/step - loss: 0.1101 - accuracy: 0.8947 - f1: 0.8948 - val_loss: 0.1038 - val_accuracy: 0.8971 - val_f1: 0.8930\n",
      "Epoch 153/200\n",
      "65/65 [==============================] - 1s 23ms/step - loss: 0.1077 - accuracy: 0.8975 - f1: 0.8977 - val_loss: 0.1046 - val_accuracy: 0.8966 - val_f1: 0.8924\n",
      "Epoch 154/200\n",
      "65/65 [==============================] - 2s 24ms/step - loss: 0.1051 - accuracy: 0.9006 - f1: 0.9005 - val_loss: 0.1031 - val_accuracy: 0.8983 - val_f1: 0.8929\n",
      "Epoch 155/200\n",
      "65/65 [==============================] - 1s 22ms/step - loss: 0.1028 - accuracy: 0.9020 - f1: 0.9019 - val_loss: 0.1030 - val_accuracy: 0.8973 - val_f1: 0.8921\n",
      "Epoch 156/200\n",
      "65/65 [==============================] - 1s 23ms/step - loss: 0.1128 - accuracy: 0.8916 - f1: 0.8918 - val_loss: 0.1066 - val_accuracy: 0.8939 - val_f1: 0.8877\n",
      "Epoch 157/200\n",
      "65/65 [==============================] - 2s 24ms/step - loss: 0.1057 - accuracy: 0.8990 - f1: 0.8990 - val_loss: 0.1023 - val_accuracy: 0.8988 - val_f1: 0.8923\n",
      "Epoch 158/200\n",
      "65/65 [==============================] - 2s 24ms/step - loss: 0.1041 - accuracy: 0.9004 - f1: 0.9006 - val_loss: 0.1056 - val_accuracy: 0.8956 - val_f1: 0.8905\n",
      "Epoch 159/200\n",
      "65/65 [==============================] - 1s 23ms/step - loss: 0.1002 - accuracy: 0.9053 - f1: 0.9053 - val_loss: 0.1041 - val_accuracy: 0.8966 - val_f1: 0.8914\n",
      "Epoch 160/200\n",
      "65/65 [==============================] - 2s 24ms/step - loss: 0.1050 - accuracy: 0.9001 - f1: 0.9001 - val_loss: 0.1023 - val_accuracy: 0.8983 - val_f1: 0.8919\n",
      "Epoch 161/200\n",
      "65/65 [==============================] - 2s 24ms/step - loss: 0.1056 - accuracy: 0.9000 - f1: 0.9001 - val_loss: 0.1022 - val_accuracy: 0.8983 - val_f1: 0.8919\n",
      "Epoch 162/200\n",
      "65/65 [==============================] - 1s 23ms/step - loss: 0.1007 - accuracy: 0.9047 - f1: 0.9048 - val_loss: 0.1033 - val_accuracy: 0.8973 - val_f1: 0.8910\n",
      "Epoch 163/200\n",
      "65/65 [==============================] - 1s 23ms/step - loss: 0.1035 - accuracy: 0.9017 - f1: 0.9019 - val_loss: 0.1035 - val_accuracy: 0.8973 - val_f1: 0.8921\n",
      "Epoch 164/200\n",
      "65/65 [==============================] - 1s 23ms/step - loss: 0.1025 - accuracy: 0.9021 - f1: 0.9020 - val_loss: 0.1033 - val_accuracy: 0.8976 - val_f1: 0.8912\n",
      "Epoch 165/200\n",
      "65/65 [==============================] - 2s 25ms/step - loss: 0.1002 - accuracy: 0.9052 - f1: 0.9051 - val_loss: 0.1034 - val_accuracy: 0.8976 - val_f1: 0.8923\n",
      "Epoch 166/200\n",
      "65/65 [==============================] - 2s 24ms/step - loss: 0.1017 - accuracy: 0.9033 - f1: 0.9032 - val_loss: 0.1037 - val_accuracy: 0.8971 - val_f1: 0.8919\n",
      "Epoch 167/200\n",
      "65/65 [==============================] - 2s 26ms/step - loss: 0.1005 - accuracy: 0.9048 - f1: 0.9048 - val_loss: 0.1044 - val_accuracy: 0.8966 - val_f1: 0.8925\n",
      "Epoch 168/200\n",
      "65/65 [==============================] - 2s 27ms/step - loss: 0.1005 - accuracy: 0.9050 - f1: 0.9050 - val_loss: 0.1030 - val_accuracy: 0.8978 - val_f1: 0.8926\n",
      "Epoch 169/200\n",
      "65/65 [==============================] - 2s 24ms/step - loss: 0.0991 - accuracy: 0.9059 - f1: 0.9060 - val_loss: 0.1034 - val_accuracy: 0.8971 - val_f1: 0.8919\n",
      "Epoch 170/200\n",
      "65/65 [==============================] - 2s 24ms/step - loss: 0.1030 - accuracy: 0.9013 - f1: 0.9012 - val_loss: 0.1027 - val_accuracy: 0.8990 - val_f1: 0.8937\n",
      "Epoch 171/200\n",
      "65/65 [==============================] - 1s 23ms/step - loss: 0.1003 - accuracy: 0.9050 - f1: 0.9051 - val_loss: 0.1023 - val_accuracy: 0.8990 - val_f1: 0.8948\n",
      "Epoch 172/200\n",
      "65/65 [==============================] - 2s 24ms/step - loss: 0.1010 - accuracy: 0.9042 - f1: 0.9041 - val_loss: 0.1031 - val_accuracy: 0.8980 - val_f1: 0.8939\n",
      "Epoch 173/200\n",
      "65/65 [==============================] - 2s 24ms/step - loss: 0.0996 - accuracy: 0.9053 - f1: 0.9052 - val_loss: 0.1034 - val_accuracy: 0.8971 - val_f1: 0.8907\n",
      "Epoch 174/200\n",
      "65/65 [==============================] - 1s 23ms/step - loss: 0.1012 - accuracy: 0.9035 - f1: 0.9034 - val_loss: 0.1035 - val_accuracy: 0.8973 - val_f1: 0.8910\n",
      "Epoch 175/200\n",
      "65/65 [==============================] - 1s 23ms/step - loss: 0.1005 - accuracy: 0.9046 - f1: 0.9047 - val_loss: 0.1038 - val_accuracy: 0.8973 - val_f1: 0.8910\n",
      "Epoch 176/200\n",
      "65/65 [==============================] - 2s 24ms/step - loss: 0.1006 - accuracy: 0.9039 - f1: 0.9039 - val_loss: 0.1042 - val_accuracy: 0.8956 - val_f1: 0.8894\n",
      "Epoch 177/200\n",
      "65/65 [==============================] - 2s 24ms/step - loss: 0.1014 - accuracy: 0.9038 - f1: 0.9035 - val_loss: 0.1137 - val_accuracy: 0.8874 - val_f1: 0.8826\n",
      "Epoch 178/200\n",
      "65/65 [==============================] - 1s 23ms/step - loss: 0.1055 - accuracy: 0.8993 - f1: 0.8994 - val_loss: 0.1061 - val_accuracy: 0.8951 - val_f1: 0.8900\n",
      "Epoch 179/200\n",
      "65/65 [==============================] - 2s 24ms/step - loss: 0.0984 - accuracy: 0.9062 - f1: 0.9063 - val_loss: 0.1053 - val_accuracy: 0.8949 - val_f1: 0.8887\n",
      "Epoch 180/200\n",
      "65/65 [==============================] - 2s 24ms/step - loss: 0.0999 - accuracy: 0.9050 - f1: 0.9049 - val_loss: 0.1077 - val_accuracy: 0.8939 - val_f1: 0.8877\n",
      "Epoch 181/200\n",
      "65/65 [==============================] - 2s 24ms/step - loss: 0.0995 - accuracy: 0.9048 - f1: 0.9048 - val_loss: 0.1053 - val_accuracy: 0.8959 - val_f1: 0.8907\n",
      "Epoch 182/200\n",
      "65/65 [==============================] - 1s 23ms/step - loss: 0.0951 - accuracy: 0.9096 - f1: 0.9096 - val_loss: 0.1068 - val_accuracy: 0.8935 - val_f1: 0.8873\n",
      "Epoch 183/200\n",
      "65/65 [==============================] - 2s 24ms/step - loss: 0.0973 - accuracy: 0.9078 - f1: 0.9078 - val_loss: 0.1044 - val_accuracy: 0.8966 - val_f1: 0.8904\n",
      "Epoch 184/200\n",
      "65/65 [==============================] - 1s 23ms/step - loss: 0.0988 - accuracy: 0.9059 - f1: 0.9060 - val_loss: 0.1037 - val_accuracy: 0.8971 - val_f1: 0.8920\n",
      "Epoch 185/200\n",
      "65/65 [==============================] - 2s 24ms/step - loss: 0.0991 - accuracy: 0.9057 - f1: 0.9058 - val_loss: 0.1039 - val_accuracy: 0.8966 - val_f1: 0.8904\n",
      "Epoch 186/200\n",
      "65/65 [==============================] - 1s 23ms/step - loss: 0.0981 - accuracy: 0.9068 - f1: 0.9066 - val_loss: 0.1038 - val_accuracy: 0.8961 - val_f1: 0.8898\n",
      "Epoch 187/200\n",
      "65/65 [==============================] - 1s 23ms/step - loss: 0.0985 - accuracy: 0.9061 - f1: 0.9061 - val_loss: 0.1041 - val_accuracy: 0.8964 - val_f1: 0.8900\n",
      "Epoch 188/200\n",
      "65/65 [==============================] - 2s 24ms/step - loss: 0.0971 - accuracy: 0.9071 - f1: 0.9071 - val_loss: 0.1049 - val_accuracy: 0.8956 - val_f1: 0.8892\n",
      "Epoch 189/200\n",
      "65/65 [==============================] - 1s 23ms/step - loss: 0.0974 - accuracy: 0.9071 - f1: 0.9073 - val_loss: 0.1050 - val_accuracy: 0.8959 - val_f1: 0.8907\n",
      "Epoch 190/200\n",
      "65/65 [==============================] - 1s 23ms/step - loss: 0.0951 - accuracy: 0.9094 - f1: 0.9094 - val_loss: 0.1080 - val_accuracy: 0.8920 - val_f1: 0.8860\n",
      "Epoch 191/200\n",
      "65/65 [==============================] - 2s 24ms/step - loss: 0.0958 - accuracy: 0.9088 - f1: 0.9088 - val_loss: 0.1016 - val_accuracy: 0.8990 - val_f1: 0.8948\n",
      "Epoch 192/200\n",
      "65/65 [==============================] - 1s 23ms/step - loss: 0.0966 - accuracy: 0.9079 - f1: 0.9076 - val_loss: 0.1022 - val_accuracy: 0.8985 - val_f1: 0.8932\n",
      "Epoch 193/200\n",
      "65/65 [==============================] - 1s 23ms/step - loss: 0.0954 - accuracy: 0.9088 - f1: 0.9088 - val_loss: 0.1059 - val_accuracy: 0.8951 - val_f1: 0.8900\n",
      "Epoch 194/200\n",
      "65/65 [==============================] - 1s 23ms/step - loss: 0.0995 - accuracy: 0.9045 - f1: 0.9046 - val_loss: 0.1024 - val_accuracy: 0.8983 - val_f1: 0.8929\n",
      "Epoch 195/200\n",
      "65/65 [==============================] - 2s 24ms/step - loss: 0.1001 - accuracy: 0.9037 - f1: 0.9037 - val_loss: 0.1049 - val_accuracy: 0.8956 - val_f1: 0.8905\n",
      "Epoch 196/200\n",
      "65/65 [==============================] - 1s 23ms/step - loss: 0.1009 - accuracy: 0.9030 - f1: 0.9029 - val_loss: 0.1047 - val_accuracy: 0.8961 - val_f1: 0.8921\n",
      "Epoch 197/200\n",
      "65/65 [==============================] - 1s 23ms/step - loss: 0.0974 - accuracy: 0.9072 - f1: 0.9072 - val_loss: 0.1042 - val_accuracy: 0.8971 - val_f1: 0.8919\n",
      "Epoch 198/200\n",
      "65/65 [==============================] - 2s 24ms/step - loss: 0.0961 - accuracy: 0.9080 - f1: 0.9079 - val_loss: 0.1068 - val_accuracy: 0.8942 - val_f1: 0.8880\n",
      "Epoch 199/200\n",
      "65/65 [==============================] - 1s 23ms/step - loss: 0.0959 - accuracy: 0.9082 - f1: 0.9082 - val_loss: 0.1088 - val_accuracy: 0.8918 - val_f1: 0.8855\n",
      "Epoch 200/200\n",
      "65/65 [==============================] - 1s 23ms/step - loss: 0.0925 - accuracy: 0.9121 - f1: 0.9121 - val_loss: 0.1080 - val_accuracy: 0.8930 - val_f1: 0.8868\n"
     ]
    }
   ],
   "source": [
    "# adam = Adam(learning_rate=0.001)\n",
    "\n",
    "model.compile(loss=f1_loss, optimizer='adam', metrics=['accuracy', f1])\n",
    "\n",
    "# es = EarlyStopping(monitor='val_accuracy', min_delta=0.01, patience=200, verbose=1, mode='auto', restore_best_weights=True)\n",
    "history = model.fit(X_train, y_train, batch_size=256, epochs=200, validation_data=(X_val, y_val), shuffle=True)"
   ]
  },
  {
   "cell_type": "code",
   "execution_count": 551,
   "id": "a354eda9",
   "metadata": {},
   "outputs": [],
   "source": [
    "def print_hist(history):\n",
    "    plt.plot(history.history['f1'])\n",
    "    plt.plot(history.history['val_f1'])\n",
    "    plt.title('model af1')\n",
    "    plt.ylabel('f1')\n",
    "    plt.xlabel('epoch')\n",
    "    plt.legend(['train', 'val'], loc='upper left')\n",
    "    plt.show()\n",
    "\n",
    "    # summarize history for accuracy\n",
    "    plt.plot(history.history['accuracy'])\n",
    "    plt.plot(history.history['val_accuracy'])\n",
    "    plt.title('model accuracy')\n",
    "    plt.ylabel('accuracy')\n",
    "    plt.xlabel('epoch')\n",
    "    plt.legend(['train', 'val'], loc='upper left')\n",
    "    plt.show()\n",
    "    \n",
    "    # summarize history for loss\n",
    "    plt.plot(history.history['loss'])\n",
    "    plt.plot(history.history['val_loss'])\n",
    "    plt.title('model loss')\n",
    "    plt.ylabel('loss')\n",
    "    plt.xlabel('epoch')\n",
    "    plt.legend(['train', 'val'], loc='upper left')\n",
    "    plt.show()"
   ]
  },
  {
   "cell_type": "code",
   "execution_count": 552,
   "id": "12a5ee5c",
   "metadata": {},
   "outputs": [
    {
     "name": "stdout",
     "output_type": "stream",
     "text": [
      "dict_keys(['loss', 'accuracy', 'f1', 'val_loss', 'val_accuracy', 'val_f1'])\n"
     ]
    }
   ],
   "source": [
    "print(history.history.keys())"
   ]
  },
  {
   "cell_type": "code",
   "execution_count": 553,
   "id": "94c7851e",
   "metadata": {},
   "outputs": [
    {
     "data": {
      "image/png": "[encoded data removed]",
      "text/plain": [
       "<Figure size 640x480 with 1 Axes>"
      ]
     },
     "metadata": {},
     "output_type": "display_data"
    },
    {
     "data": {
      "image/png": "[encoded data removed]",
      "text/plain": [
       "<Figure size 640x480 with 1 Axes>"
      ]
     },
     "metadata": {},
     "output_type": "display_data"
    },
    {
     "data": {
      "image/png": "[encoded data removed]",
      "text/plain": [
       "<Figure size 640x480 with 1 Axes>"
      ]
     },
     "metadata": {},
     "output_type": "display_data"
    },
    {
     "name": "stdout",
     "output_type": "stream",
     "text": [
      "None\n"
     ]
    }
   ],
   "source": [
    "print(print_hist(history))"
   ]
  },
  {
   "cell_type": "code",
   "execution_count": 556,
   "id": "598f5660",
   "metadata": {},
   "outputs": [
    {
     "name": "stdout",
     "output_type": "stream",
     "text": [
      "21/21 [==============================] - 0s 7ms/step - loss: 0.1093 - accuracy: 0.8908 - f1: 0.8914\n"
     ]
    },
    {
     "data": {
      "text/plain": [
       "[0.10931409150362015, 0.8908001780509949, 0.8914240598678589]"
      ]
     },
     "execution_count": 556,
     "metadata": {},
     "output_type": "execute_result"
    }
   ],
   "source": [
    "model.evaluate(X_test, y_test, batch_size=256)"
   ]
  },
  {
   "cell_type": "code",
   "execution_count": 558,
   "id": "5be04c79",
   "metadata": {},
   "outputs": [
    {
     "name": "stdout",
     "output_type": "stream",
     "text": [
      "162/162 [==============================] - 1s 7ms/step\n",
      "0 negative\n",
      "2 positive\n",
      "1 neutral\n",
      "2 positive\n",
      "1 neutral\n",
      "0 negative\n",
      "2 positive\n",
      "1 neutral\n",
      "2 positive\n",
      "1 neutral\n",
      "0 negative\n"
     ]
    }
   ],
   "source": [
    "predict = model.predict(X_test)\n",
    "encode_predict = np.argmax(predict, axis=1)\n",
    "label_predict = l_encode.inverse_transform(encode_predict)\n",
    "i = 0\n",
    "for encode, label in zip(encode_predict, label_predict):\n",
    "    if i <= 10:\n",
    "        print(encode, label)\n",
    "        i += 1\n",
    "    else:\n",
    "        break"
   ]
  },
  {
   "cell_type": "code",
   "execution_count": 559,
   "id": "009aaf8a",
   "metadata": {},
   "outputs": [
    {
     "name": "stdout",
     "output_type": "stream",
     "text": [
      "162/162 [==============================] - 1s 7ms/step\n"
     ]
    },
    {
     "data": {
      "text/plain": [
       "array([[1517,   58,  133],\n",
       "       [  96, 1524,   64],\n",
       "       [ 170,   44, 1568]])"
      ]
     },
     "execution_count": 559,
     "metadata": {},
     "output_type": "execute_result"
    }
   ],
   "source": [
    "import numpy as np\n",
    "import seaborn as sns\n",
    "import matplotlib.pyplot as plt\n",
    "from sklearn.metrics import confusion_matrix\n",
    "\n",
    "y_pred = model.predict(X_test)\n",
    "cm = confusion_matrix(np.argmax(y_test, axis=1), np.argmax(y_pred, axis=1))\n",
    "cm"
   ]
  },
  {
   "cell_type": "code",
   "execution_count": 560,
   "id": "b810946e",
   "metadata": {},
   "outputs": [
    {
     "data": {
      "image/png": "[encoded data removed]",
      "text/plain": [
       "<Figure size 800x600 with 2 Axes>"
      ]
     },
     "metadata": {},
     "output_type": "display_data"
    }
   ],
   "source": [
    "plt.figure(figsize=(8, 6))\n",
    "sns.heatmap(cm, annot=True, fmt='d', cmap='Blues', xticklabels=['negative', 'neutral', 'positive'], yticklabels=['negative', 'neutral', 'positive'])\n",
    "plt.xlabel('Predicted')\n",
    "plt.ylabel('True')\n",
    "plt.title('Confusion Matrix')\n",
    "plt.show()"
   ]
  },
  {
   "cell_type": "code",
   "execution_count": 561,
   "id": "f8bb581b",
   "metadata": {},
   "outputs": [
    {
     "name": "stdout",
     "output_type": "stream",
     "text": [
      "162/162 [==============================] - 1s 7ms/step\n",
      "              precision    recall  f1-score   support\n",
      "\n",
      "           0       0.85      0.89      0.87      1708\n",
      "           1       0.94      0.90      0.92      1684\n",
      "           2       0.89      0.88      0.88      1782\n",
      "\n",
      "    accuracy                           0.89      5174\n",
      "   macro avg       0.89      0.89      0.89      5174\n",
      "weighted avg       0.89      0.89      0.89      5174\n",
      "\n"
     ]
    }
   ],
   "source": [
    "from sklearn.metrics import classification_report\n",
    "y_pred = model.predict(X_test)\n",
    "report = classification_report(np.argmax(y_test, axis=1), np.argmax(y_pred, axis=1))\n",
    "print(report)"
   ]
  },
  {
   "cell_type": "code",
   "execution_count": 562,
   "id": "96c02414",
   "metadata": {},
   "outputs": [
    {
     "name": "stderr",
     "output_type": "stream",
     "text": [
      "/home/g6401201087/Python/myvenv/lib/python3.10/site-packages/keras/src/engine/training.py:3103: UserWarning: You are saving your model as an HDF5 file via `model.save()`. This file format is considered legacy. We recommend using instead the native Keras format, e.g. `model.save('my_model.keras')`.\n",
      "  saving_api.save_model(\n"
     ]
    }
   ],
   "source": [
    "model.save('balanced_vader_model_best_256.keras')\n",
    "model.save('balanced_vader_model_best_256.h5')"
   ]
  }
 ],
 "metadata": {
  "kernelspec": {
   "display_name": "myvenv",
   "language": "python",
   "name": "myvenv"
  },
  "language_info": {
   "codemirror_mode": {
    "name": "ipython",
    "version": 3
   },
   "file_extension": ".py",
   "mimetype": "text/x-python",
   "name": "python",
   "nbconvert_exporter": "python",
   "pygments_lexer": "ipython3",
   "version": "3.10.12"
  }
 },
 "nbformat": 4,
 "nbformat_minor": 5
}
