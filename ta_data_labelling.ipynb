{
  "nbformat": 4,
  "nbformat_minor": 0,
  "metadata": {
    "colab": {
      "provenance": []
    },
    "kernelspec": {
      "name": "python3",
      "display_name": "Python 3"
    },
    "language_info": {
      "name": "python"
    }
  },
  "cells": [
    {
      "cell_type": "code",
      "source": [
        "!pip install textblob\n",
        "\n",
        "import nltk\n",
        "nltk.download('punkt')"
      ],
      "metadata": {
        "id": "g4EuQ3SRJ1QR"
      },
      "execution_count": null,
      "outputs": []
    },
    {
      "cell_type": "code",
      "execution_count": 25,
      "metadata": {
        "id": "TXGcXlS8Imcb"
      },
      "outputs": [],
      "source": [
        "from google.colab import drive\n",
        "import pandas as pd\n",
        "from textblob import TextBlob"
      ]
    },
    {
      "cell_type": "code",
      "source": [
        "drive.mount('/content/drive')"
      ],
      "metadata": {
        "colab": {
          "base_uri": "https://localhost:8080/"
        },
        "id": "T6iI8vQiIs9O",
        "outputId": "a363a454-13be-4452-a2d5-4b067e24438f"
      },
      "execution_count": 26,
      "outputs": [
        {
          "output_type": "stream",
          "name": "stdout",
          "text": [
            "Mounted at /content/drive\n"
          ]
        }
      ]
    },
    {
      "cell_type": "code",
      "source": [
        "!ls '/content/drive/MyDrive/tugas-akhir-s1'"
      ],
      "metadata": {
        "colab": {
          "base_uri": "https://localhost:8080/"
        },
        "id": "PjzOCYP0IwrF",
        "outputId": "28782812-5458-40f5-9b89-4cc348a8980f"
      },
      "execution_count": 27,
      "outputs": [
        {
          "output_type": "stream",
          "name": "stdout",
          "text": [
            " comments_oppenheimer_dataset.csv\t    'masukan kolo.txt'\t unlabelled_dataset.csv\n",
            " comments_oppenheimer_dataset_labelled.csv   partisi\n"
          ]
        }
      ]
    },
    {
      "cell_type": "code",
      "source": [
        "PATH = '/content/drive/MyDrive/tugas-akhir-s1/unlabelled_dataset_2.csv'\n",
        "\n",
        "df = pd.read_csv(PATH, sep=';')\n",
        "df['text'] = df['text'].astype(str)\n",
        "\n",
        "print(df.head())"
      ],
      "metadata": {
        "colab": {
          "base_uri": "https://localhost:8080/"
        },
        "id": "koUJI9kEI95t",
        "outputId": "6ad51ad9-7816-4737-f67c-feefbfe55bed"
      },
      "execution_count": 45,
      "outputs": [
        {
          "output_type": "stream",
          "name": "stdout",
          "text": [
            "                                                text\n",
            "0  From one of my most anticipated movies of 2023...\n",
            "1  Great movie, though putting music in every sce...\n",
            "2  Movie plagued with short shots. Looked like a ...\n",
            "3  Al final resulta que los científicos no eran t...\n",
            "4  I’m suddenly reminded of a line from the graph...\n"
          ]
        }
      ]
    },
    {
      "cell_type": "code",
      "source": [
        "def get_sentiment(text):\n",
        "  analysis = TextBlob(text)\n",
        "\n",
        "  return 'positive' if analysis.sentiment.polarity > 0 else 'negative' if analysis.sentiment.polarity < 0 else 'neutral'"
      ],
      "metadata": {
        "id": "nGDGeJ9KJcjR"
      },
      "execution_count": 29,
      "outputs": []
    },
    {
      "cell_type": "code",
      "source": [
        "df['sentiment'] = df['text'].apply(get_sentiment)"
      ],
      "metadata": {
        "id": "BTxkjg42JQK5"
      },
      "execution_count": 36,
      "outputs": []
    },
    {
      "cell_type": "code",
      "source": [
        "print(df.head())"
      ],
      "metadata": {
        "colab": {
          "base_uri": "https://localhost:8080/"
        },
        "id": "SlLTtfKZKQ1v",
        "outputId": "9103fa8d-ad83-4b29-da66-382913fb7630"
      },
      "execution_count": 37,
      "outputs": [
        {
          "output_type": "stream",
          "name": "stdout",
          "text": [
            "                                                text sentiment\n",
            "0  From one of my most anticipated movies of 2023...  positive\n",
            "1  Great movie, though putting music in every sce...  positive\n",
            "2  Movie plagued with short shots. Looked like a ...  negative\n",
            "3  Al final resulta que los científicos no eran t...   neutral\n",
            "4  I’m suddenly reminded of a line from the graph...  positive\n"
          ]
        }
      ]
    },
    {
      "cell_type": "code",
      "source": [
        "total_sentiment = df['sentiment'].value_counts()\n",
        "\n",
        "print(total_sentiment)"
      ],
      "metadata": {
        "colab": {
          "base_uri": "https://localhost:8080/"
        },
        "id": "GTvXVYr6Kb8w",
        "outputId": "a26acb61-eb31-4a44-93d9-2bd55f80d52c"
      },
      "execution_count": 38,
      "outputs": [
        {
          "output_type": "stream",
          "name": "stdout",
          "text": [
            "neutral     6147\n",
            "positive    4765\n",
            "negative    1430\n",
            "Name: sentiment, dtype: int64\n"
          ]
        }
      ]
    },
    {
      "cell_type": "code",
      "source": [
        "print(len(df))"
      ],
      "metadata": {
        "colab": {
          "base_uri": "https://localhost:8080/"
        },
        "id": "fnQvxW9EOMS5",
        "outputId": "a2cb65b9-84a5-4c1e-99c4-16cefac32a59"
      },
      "execution_count": 41,
      "outputs": [
        {
          "output_type": "stream",
          "name": "stdout",
          "text": [
            "12342\n"
          ]
        }
      ]
    },
    {
      "cell_type": "code",
      "source": [
        "output_name = 'labelled_dataset_2.csv'\n",
        "PATH = f'/content/drive/MyDrive/tugas-akhir-s1/{output_name}'\n",
        "df.to_csv(PATH, index=False, sep=';')"
      ],
      "metadata": {
        "id": "TyZ6QdJSK7Zn"
      },
      "execution_count": 42,
      "outputs": []
    }
  ]
}