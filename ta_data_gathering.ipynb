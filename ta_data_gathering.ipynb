{
  "nbformat": 4,
  "nbformat_minor": 0,
  "metadata": {
    "colab": {
      "provenance": []
    },
    "kernelspec": {
      "name": "python3",
      "display_name": "Python 3"
    },
    "language_info": {
      "name": "python"
    }
  },
  "cells": [
    {
      "cell_type": "markdown",
      "metadata": {
        "id": "view-in-github"
      },
      "source": [
        "<a href=\"https://colab.research.google.com/github/analyticswithadam/Python/blob/main/YouTube_Comments_Advanced.ipynb\" target=\"_parent\"><img src=\"https://colab.research.google.com/assets/colab-badge.svg\" alt=\"Open In Colab\"/></a>"
      ]
    },
    {
      "cell_type": "markdown",
      "source": [
        "# Data Gathering"
      ],
      "metadata": {
        "id": "1LtcTQRZ9-Y0"
      }
    },
    {
      "cell_type": "markdown",
      "source": [
        "## Memuat YouTube Data API Developer Key"
      ],
      "metadata": {
        "id": "udAOF4bW7Dhd"
      }
    },
    {
      "cell_type": "code",
      "source": [
        "dev = \"insert_dev_key_here\""
      ],
      "metadata": {
        "id": "TQVod6vICn3O"
      },
      "execution_count": null,
      "outputs": []
    },
    {
      "cell_type": "markdown",
      "source": [
        "## Scraping Komentar"
      ],
      "metadata": {
        "id": "ExqBG7nOSzQZ"
      }
    },
    {
      "cell_type": "code",
      "source": [
        "import googleapiclient.discovery\n",
        "import pandas as pd\n",
        "from google.colab import drive"
      ],
      "metadata": {
        "id": "m6dsc6yKGwv2"
      },
      "execution_count": null,
      "outputs": []
    },
    {
      "cell_type": "code",
      "source": [
        "drive.mount('/content/drive')"
      ],
      "metadata": {
        "colab": {
          "base_uri": "https://localhost:8080/"
        },
        "id": "TnhfTt8hnUC1",
        "outputId": "8bad53a6-3dd4-41b6-f6e8-4d172baed7ab"
      },
      "execution_count": null,
      "outputs": [
        {
          "output_type": "stream",
          "name": "stdout",
          "text": [
            "Mounted at /content/drive\n"
          ]
        }
      ]
    },
    {
      "cell_type": "code",
      "source": [
        "!ls '/content/drive/MyDrive/tugas-akhir-s1'"
      ],
      "metadata": {
        "colab": {
          "base_uri": "https://localhost:8080/"
        },
        "id": "8w7DpUVVnXA-",
        "outputId": "e1c6bb57-4916-4073-f495-0e179bcb779e"
      },
      "execution_count": null,
      "outputs": [
        {
          "output_type": "stream",
          "name": "stdout",
          "text": [
            " comments_oppenheimer_dataset.csv\t    'masukan kolo.txt'\n",
            " comments_oppenheimer_dataset_labelled.csv   partisi\n"
          ]
        }
      ]
    },
    {
      "cell_type": "code",
      "source": [
        "def get_comments():\n",
        "  api_service_name = \"youtube\"\n",
        "  api_version = \"v3\"\n",
        "  DEVELOPER_KEY = dev\n",
        "\n",
        "  youtube = googleapiclient.discovery.build(\n",
        "      api_service_name, api_version, developerKey=DEVELOPER_KEY\n",
        "  )\n",
        "\n",
        "  request = youtube.commentThreads().list(\n",
        "      part=\"snippet\",\n",
        "      videoId=\"bK6ldnjE3Y0\",\n",
        "      maxResults=100\n",
        "  )\n",
        "\n",
        "  comments = []\n",
        "\n",
        "  while request:\n",
        "    response = request.execute()\n",
        "\n",
        "    for item in response['items']:\n",
        "      comment = item['snippet']['topLevelComment']['snippet']\n",
        "      comments.append([\n",
        "          comment['textOriginal']\n",
        "      ])\n",
        "\n",
        "      # comment_id = item['id']\n",
        "      # total_replies = item['snippet']['totalReplyCount']\n",
        "      # if total_replies > 0:\n",
        "      #   get_replies(comments, comment_id, total_replies)\n",
        "\n",
        "      request = youtube.commentThreads().list_next(\n",
        "          request, response\n",
        "      )\n",
        "\n",
        "  return comments\n"
      ],
      "metadata": {
        "id": "niQvhnK7DkYP"
      },
      "execution_count": 12,
      "outputs": []
    },
    {
      "cell_type": "code",
      "source": [
        "# def get_replies(comments, comment_id, total_replies):\n",
        "#   api_service_name = \"youtube\"\n",
        "#   api_version = \"v3\"\n",
        "#   DEVELOPER_KEY = dev\n",
        "\n",
        "#   youtube = googleapiclient.discovery.build(\n",
        "#       api_service_name, api_version, developerKey=DEVELOPER_KEY\n",
        "#   )\n",
        "\n",
        "#   reply_request = youtube.comments().list(\n",
        "#       part=\"snippet\",\n",
        "#       parentId=comment_id,\n",
        "#       maxResults=100\n",
        "#   )\n",
        "\n",
        "#   reply_response = reply_request.execute()\n",
        "\n",
        "#   for reply_item in reply_response['items']:\n",
        "#     comments.append([\n",
        "#         reply_item['snippet']['textOriginal']\n",
        "#     ])\n",
        "\n",
        "#   return comments"
      ],
      "metadata": {
        "id": "CxmrkR8OFcI3"
      },
      "execution_count": null,
      "outputs": []
    },
    {
      "cell_type": "markdown",
      "source": [
        "## Mengumpulkan data"
      ],
      "metadata": {
        "id": "aAoKOeO4-Div"
      }
    },
    {
      "cell_type": "code",
      "source": [
        "def create_dataset():\n",
        "  output_name = \"unlabelled_dataset_2.csv\"\n",
        "  print('collecting comments...')\n",
        "  comments = get_comments()\n",
        "  print('process completed...')\n",
        "  print('saving dataset...')\n",
        "  df = pd.DataFrame(comments, columns=['text'])\n",
        "  df.info()\n",
        "  df.to_csv(f'/content/drive/MyDrive/tugas-akhir-s1/{output_name}', index=False, sep=';')\n",
        "  print(f'dataset has been saved as {output_name}')"
      ],
      "metadata": {
        "id": "dQ47Pfq9DljF"
      },
      "execution_count": 15,
      "outputs": []
    },
    {
      "cell_type": "code",
      "source": [
        "create_dataset()"
      ],
      "metadata": {
        "colab": {
          "base_uri": "https://localhost:8080/"
        },
        "id": "frJWBkf4Gr__",
        "outputId": "a4dbde3a-fe93-4784-864c-ca212c6f544e"
      },
      "execution_count": 14,
      "outputs": [
        {
          "output_type": "stream",
          "name": "stdout",
          "text": [
            "collecting comments...\n",
            "process completed...\n",
            "saving dataset...\n",
            "<class 'pandas.core.frame.DataFrame'>\n",
            "RangeIndex: 12342 entries, 0 to 12341\n",
            "Data columns (total 1 columns):\n",
            " #   Column  Non-Null Count  Dtype \n",
            "---  ------  --------------  ----- \n",
            " 0   text    12342 non-null  object\n",
            "dtypes: object(1)\n",
            "memory usage: 96.5+ KB\n",
            "dataset has been saved as unlabelled_dataset_2.csv\n"
          ]
        }
      ]
    }
  ]
}